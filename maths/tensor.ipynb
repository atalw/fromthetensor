{
 "cells": [
  {
   "cell_type": "code",
   "execution_count": 92,
   "metadata": {},
   "outputs": [],
   "source": [
    "from tinygrad import Tensor, dtypes"
   ]
  },
  {
   "cell_type": "code",
   "execution_count": 14,
   "metadata": {},
   "outputs": [
    {
     "name": "stdout",
     "output_type": "stream",
     "text": [
      "[[1. 0. 0.]\n",
      " [0. 1. 0.]\n",
      " [0. 0. 1.]]\n"
     ]
    }
   ],
   "source": [
    "a = Tensor.eye(3)\n",
    "print(a.numpy())"
   ]
  },
  {
   "cell_type": "code",
   "execution_count": 91,
   "metadata": {},
   "outputs": [
    {
     "name": "stdout",
     "output_type": "stream",
     "text": [
      "<Tensor <LB METAL (3, 1) contig:False ShapeTracker(views=(View(shape=(3, 1), strides=(0, 0), offset=0, mask=None, contiguous=False),))> on METAL with grad None>\n",
      "[[1]\n",
      " [1]\n",
      " [1]] full\n",
      "<Tensor <LB METAL (3, 4) contig:False ShapeTracker(views=(View(shape=(3, 4), strides=(0, 0), offset=0, mask=((0, 3), (0, 1)), contiguous=False),))> on METAL with grad None>\n",
      "[[1 0 0 0]\n",
      " [1 0 0 0]\n",
      " [1 0 0 0]] pad\n",
      "<Tensor <LB METAL (12,) contig:False ShapeTracker(views=(View(shape=(3, 4), strides=(0, 0), offset=0, mask=((0, 3), (0, 1)), contiguous=False), View(shape=(12,), strides=(1,), offset=0, mask=None, contiguous=True)))> on METAL with grad None>\n",
      "[1 0 0 0 1 0 0 0 1 0 0 0] reshape\n",
      "<Tensor <LB METAL (9,) contig:False ShapeTracker(views=(View(shape=(3, 4), strides=(0, 0), offset=0, mask=((0, 3), (0, 1)), contiguous=False), View(shape=(9,), strides=(1,), offset=0, mask=None, contiguous=True)))> on METAL with grad None>\n",
      "[1 0 0 0 1 0 0 0 1] shrink\n",
      "<Tensor <LB METAL (3, 3) contig:False ShapeTracker(views=(View(shape=(3, 4), strides=(0, 0), offset=0, mask=((0, 3), (0, 1)), contiguous=False), View(shape=(3, 3), strides=(3, 1), offset=0, mask=None, contiguous=True)))> on METAL with grad None>\n",
      "[[1 0 0]\n",
      " [0 1 0]\n",
      " [0 0 1]] reshape\n"
     ]
    }
   ],
   "source": [
    "dim = 3\n",
    "b = Tensor.full((dim, 1), 1)\n",
    "# args = ((0,0),(0,dim))\n",
    "# print(tuple([(p[0], s+p[1]) for s,p in zip(b.shape, args)]))\n",
    "# print(tuple(x if x is not None else (1,1) for x in args))\n",
    "print(b)\n",
    "print(f\"{b.numpy()} full\")\n",
    "# arg = ((top, bottom),(left, right))\n",
    "b = b.pad(((0,0),(0,dim)))\n",
    "print(b)\n",
    "print(f\"{b.numpy()} pad\")\n",
    "b = b.reshape(dim*(dim+1))\n",
    "print(b)\n",
    "print(f\"{b.numpy()} reshape\")\n",
    "b = b.shrink(((0, dim*dim),))\n",
    "print(b)\n",
    "print(f\"{b.numpy()} shrink\")\n",
    "b = b.reshape(dim, dim)\n",
    "print(b)\n",
    "print(f\"{b.numpy()} reshape\")"
   ]
  },
  {
   "cell_type": "code",
   "execution_count": 104,
   "metadata": {},
   "outputs": [
    {
     "name": "stdout",
     "output_type": "stream",
     "text": [
      "<Tensor <LB METAL (5,) contig:True (<LoadOps.COPY: 3>, None)> on METAL with grad None>\n",
      "<Tensor <LB METAL (5,) contig:False ShapeTracker(views=(View(shape=(5,), strides=(1,), offset=0, mask=((0, 2),), contiguous=False),))> on METAL with grad None>\n",
      "[1 1 1 1 1] [1 1 0 0 0]\n",
      "<Tensor <LB METAL (5,) contig:True (<BinaryOps.MUL: 3>, None)> on METAL with grad None>\n",
      "[1 1 0 0 0]\n"
     ]
    }
   ],
   "source": [
    "a = Tensor([1,1,1,1,1])\n",
    "b = Tensor([1,1]).pad(((0,3),))\n",
    "print(a)\n",
    "print(b)\n",
    "print(a.numpy(), b.numpy())\n",
    "c = a*b\n",
    "print(c)\n",
    "print(c.numpy())\n"
   ]
  },
  {
   "cell_type": "code",
   "execution_count": 109,
   "metadata": {},
   "outputs": [
    {
     "name": "stdout",
     "output_type": "stream",
     "text": [
      "3.0 2.5 1.5811388\n"
     ]
    }
   ],
   "source": [
    "a = Tensor([1, 2, 3, 4, 5])\n",
    "print(a.mean().numpy(), a.var().numpy(), a.std().numpy())"
   ]
  },
  {
   "cell_type": "code",
   "execution_count": 120,
   "metadata": {},
   "outputs": [
    {
     "ename": "AssertionError",
     "evalue": "",
     "output_type": "error",
     "traceback": [
      "\u001b[0;31m---------------------------------------------------------------------------\u001b[0m",
      "\u001b[0;31mAssertionError\u001b[0m                            Traceback (most recent call last)",
      "Cell \u001b[0;32mIn[120], line 9\u001b[0m\n\u001b[1;32m      7\u001b[0m ss \u001b[38;5;241m=\u001b[39m (a\u001b[38;5;241m-\u001b[39m m)\u001b[38;5;241m.\u001b[39msquare()\u001b[38;5;241m.\u001b[39msum()\n\u001b[1;32m      8\u001b[0m v \u001b[38;5;241m=\u001b[39m ss\u001b[38;5;241m.\u001b[39mdiv(\u001b[38;5;28mmax\u001b[39m(\u001b[38;5;241m0\u001b[39m, a\u001b[38;5;241m.\u001b[39mnumel() \u001b[38;5;241m-\u001b[39m correction))\n\u001b[0;32m----> 9\u001b[0m \u001b[38;5;28;01massert\u001b[39;00m v\u001b[38;5;241m.\u001b[39mvar()\u001b[38;5;241m.\u001b[39mnumpy() \u001b[38;5;241m==\u001b[39m v\u001b[38;5;241m.\u001b[39mnumpy()\n\u001b[1;32m     11\u001b[0m \u001b[38;5;66;03m# std\u001b[39;00m\n\u001b[1;32m     12\u001b[0m std \u001b[38;5;241m=\u001b[39m v\u001b[38;5;241m.\u001b[39msqrt()\n",
      "\u001b[0;31mAssertionError\u001b[0m: "
     ]
    }
   ],
   "source": [
    "# mean\n",
    "m = a.sum()/a.numel()\n",
    "assert a.mean().numpy() == m.numpy()\n",
    "\n",
    "# var\n",
    "correction = 1\n",
    "ss = (a- m).square().sum()\n",
    "v = ss.div(max(0, a.numel() - correction))\n",
    "assert v.var().numpy() == v.numpy()\n",
    "\n",
    "# std\n",
    "std = v.sqrt()\n",
    "print(std.numpy())\n",
    "assert a.std().numpy() == std.numpy()"
   ]
  },
  {
   "cell_type": "code",
   "execution_count": 115,
   "metadata": {},
   "outputs": [
    {
     "name": "stdout",
     "output_type": "stream",
     "text": [
      "2.5\n"
     ]
    }
   ],
   "source": []
  },
  {
   "cell_type": "code",
   "execution_count": 116,
   "metadata": {},
   "outputs": [
    {
     "name": "stdout",
     "output_type": "stream",
     "text": [
      "1.5811388\n"
     ]
    }
   ],
   "source": []
  }
 ],
 "metadata": {
  "kernelspec": {
   "display_name": "Python 3",
   "language": "python",
   "name": "python3"
  },
  "language_info": {
   "codemirror_mode": {
    "name": "ipython",
    "version": 3
   },
   "file_extension": ".py",
   "mimetype": "text/x-python",
   "name": "python",
   "nbconvert_exporter": "python",
   "pygments_lexer": "ipython3",
   "version": "3.12.2"
  }
 },
 "nbformat": 4,
 "nbformat_minor": 2
}
