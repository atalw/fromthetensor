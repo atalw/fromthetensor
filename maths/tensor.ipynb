{
 "cells": [
  {
   "cell_type": "code",
   "execution_count": 92,
   "metadata": {},
   "outputs": [],
   "source": [
    "from tinygrad import Tensor, dtypes"
   ]
  },
  {
   "cell_type": "code",
   "execution_count": 14,
   "metadata": {},
   "outputs": [
    {
     "name": "stdout",
     "output_type": "stream",
     "text": [
      "[[1. 0. 0.]\n",
      " [0. 1. 0.]\n",
      " [0. 0. 1.]]\n"
     ]
    }
   ],
   "source": [
    "a = Tensor.eye(3)\n",
    "print(a.numpy())"
   ]
  },
  {
   "cell_type": "code",
   "execution_count": 91,
   "metadata": {},
   "outputs": [
    {
     "name": "stdout",
     "output_type": "stream",
     "text": [
      "<Tensor <LB METAL (3, 1) contig:False ShapeTracker(views=(View(shape=(3, 1), strides=(0, 0), offset=0, mask=None, contiguous=False),))> on METAL with grad None>\n",
      "[[1]\n",
      " [1]\n",
      " [1]] full\n",
      "<Tensor <LB METAL (3, 4) contig:False ShapeTracker(views=(View(shape=(3, 4), strides=(0, 0), offset=0, mask=((0, 3), (0, 1)), contiguous=False),))> on METAL with grad None>\n",
      "[[1 0 0 0]\n",
      " [1 0 0 0]\n",
      " [1 0 0 0]] pad\n",
      "<Tensor <LB METAL (12,) contig:False ShapeTracker(views=(View(shape=(3, 4), strides=(0, 0), offset=0, mask=((0, 3), (0, 1)), contiguous=False), View(shape=(12,), strides=(1,), offset=0, mask=None, contiguous=True)))> on METAL with grad None>\n",
      "[1 0 0 0 1 0 0 0 1 0 0 0] reshape\n",
      "<Tensor <LB METAL (9,) contig:False ShapeTracker(views=(View(shape=(3, 4), strides=(0, 0), offset=0, mask=((0, 3), (0, 1)), contiguous=False), View(shape=(9,), strides=(1,), offset=0, mask=None, contiguous=True)))> on METAL with grad None>\n",
      "[1 0 0 0 1 0 0 0 1] shrink\n",
      "<Tensor <LB METAL (3, 3) contig:False ShapeTracker(views=(View(shape=(3, 4), strides=(0, 0), offset=0, mask=((0, 3), (0, 1)), contiguous=False), View(shape=(3, 3), strides=(3, 1), offset=0, mask=None, contiguous=True)))> on METAL with grad None>\n",
      "[[1 0 0]\n",
      " [0 1 0]\n",
      " [0 0 1]] reshape\n"
     ]
    }
   ],
   "source": [
    "dim = 3\n",
    "b = Tensor.full((dim, 1), 1)\n",
    "# args = ((0,0),(0,dim))\n",
    "# print(tuple([(p[0], s+p[1]) for s,p in zip(b.shape, args)]))\n",
    "# print(tuple(x if x is not None else (1,1) for x in args))\n",
    "print(b)\n",
    "print(f\"{b.numpy()} full\")\n",
    "# arg = ((top, bottom),(left, right))\n",
    "b = b.pad(((0,0),(0,dim)))\n",
    "print(b)\n",
    "print(f\"{b.numpy()} pad\")\n",
    "b = b.reshape(dim*(dim+1))\n",
    "print(b)\n",
    "print(f\"{b.numpy()} reshape\")\n",
    "b = b.shrink(((0, dim*dim),))\n",
    "print(b)\n",
    "print(f\"{b.numpy()} shrink\")\n",
    "b = b.reshape(dim, dim)\n",
    "print(b)\n",
    "print(f\"{b.numpy()} reshape\")"
   ]
  },
  {
   "cell_type": "code",
   "execution_count": 67,
   "metadata": {},
   "outputs": [
    {
     "name": "stdout",
     "output_type": "stream",
     "text": [
      "<Tensor <LB METAL (5,) contig:True (<LoadOps.COPY: 3>, None)> on METAL with grad None>\n",
      "<Tensor <LB METAL (5,) contig:False ShapeTracker(views=(View(shape=(5,), strides=(1,), offset=0, mask=((0, 2),), contiguous=False),))> on METAL with grad None>\n",
      "[1 1 1 1 1] [1 1 0 0 0]\n",
      "<Tensor <LB METAL (5,) contig:True (<BinaryOps.MUL: 3>, None)> on METAL with grad None>\n",
      "[1 1 0 0 0]\n"
     ]
    }
   ],
   "source": [
    "a = Tensor([1,1,1,1,1])\n",
    "b = Tensor([1,1]).pad(((0,3),))\n",
    "print(a)\n",
    "print(b)\n",
    "print(a.numpy(), b.numpy())\n",
    "c = a*b\n",
    "print(c)\n",
    "print(c.numpy())"
   ]
  }
 ],
 "metadata": {
  "kernelspec": {
   "display_name": "Python 3",
   "language": "python",
   "name": "python3"
  },
  "language_info": {
   "codemirror_mode": {
    "name": "ipython",
    "version": 3
   },
   "file_extension": ".py",
   "mimetype": "text/x-python",
   "name": "python",
   "nbconvert_exporter": "python",
   "pygments_lexer": "ipython3",
   "version": "3.12.2"
  }
 },
 "nbformat": 4,
 "nbformat_minor": 2
}
