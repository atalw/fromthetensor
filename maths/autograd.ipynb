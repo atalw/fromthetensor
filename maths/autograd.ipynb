{
 "cells": [
  {
   "cell_type": "code",
   "execution_count": 40,
   "metadata": {},
   "outputs": [],
   "source": [
    "from tinygrad import Tensor\n",
    "from tinygrad.ops import BinaryOps, ReduceOps\n",
    "from tinygrad.engine.schedule import create_schedule\n",
    "from tinygrad.engine.realize import run_schedule"
   ]
  },
  {
   "cell_type": "code",
   "execution_count": 94,
   "metadata": {},
   "outputs": [
    {
     "name": "stdout",
     "output_type": "stream",
     "text": [
      "<Tensor <LB METAL (3,) contig:True (<LoadOps.COPY: 3>, None)> on METAL with grad None>\n",
      "3\n",
      "1 [0 0 1]\n"
     ]
    }
   ],
   "source": [
    "a = Tensor([1, 2, 3], requires_grad=True)\n",
    "print(a)\n",
    "b = a.max(axis=0)\n",
    "print(b.numpy())\n",
    "c = b.backward()\n",
    "print(c.grad.numpy(), a.grad.numpy(), b.grad.numpy())"
   ]
  },
  {
   "cell_type": "code",
   "execution_count": 81,
   "metadata": {},
   "outputs": [
    {
     "name": "stdout",
     "output_type": "stream",
     "text": [
      "3\n",
      "1\n",
      "<LB METAL (3,) contig:False ShapeTracker(views=(View(shape=(3,), strides=(0,), offset=0, mask=None, contiguous=False),))>\n",
      "3\n"
     ]
    }
   ],
   "source": [
    "axis = (0,)\n",
    "x = a.lazydata\n",
    "\n",
    "ret = x.r(ReduceOps.MAX, axis)\n",
    "sched = create_schedule([ret])\n",
    "run_schedule(sched)\n",
    "print(ret.realized.as_buffer().cast('I')[0])\n",
    "\n",
    "max_is_1s = x.e(BinaryOps.CMPEQ, ret.expand(x.shape)).cast(x.dtype)\n",
    "div = max_is_1s.r(ReduceOps.SUM, axis).expand(x.shape)\n",
    "res = max_is_1s.e(BinaryOps.DIV, div).e(BinaryOps.MUL, ret.expand(x.shape))\n",
    "sched = create_schedule([max_is_1s, div, res])\n",
    "run_schedule(sched)\n",
    "print(max_is_1s.realized.as_buffer().cast('I')[2])\n",
    "print(div)\n",
    "print(res.realized.as_buffer().cast('I')[2])"
   ]
  },
  {
   "cell_type": "code",
   "execution_count": 93,
   "metadata": {},
   "outputs": [
    {
     "ename": "AssertionError",
     "evalue": "can't expand (3,) into (2,)",
     "output_type": "error",
     "traceback": [
      "\u001b[0;31m---------------------------------------------------------------------------\u001b[0m",
      "\u001b[0;31mAssertionError\u001b[0m                            Traceback (most recent call last)",
      "Cell \u001b[0;32mIn[93], line 3\u001b[0m\n\u001b[1;32m      1\u001b[0m a \u001b[38;5;241m=\u001b[39m Tensor([[\u001b[38;5;241m1\u001b[39m, \u001b[38;5;241m2\u001b[39m, \u001b[38;5;241m3\u001b[39m], [\u001b[38;5;241m4\u001b[39m, \u001b[38;5;241m5\u001b[39m, \u001b[38;5;241m6\u001b[39m]])\n\u001b[1;32m      2\u001b[0m b \u001b[38;5;241m=\u001b[39m a\u001b[38;5;241m.\u001b[39mmax(axis\u001b[38;5;241m=\u001b[39m\u001b[38;5;241m0\u001b[39m)\n\u001b[0;32m----> 3\u001b[0m \u001b[38;5;28mprint\u001b[39m(b\u001b[38;5;241m.\u001b[39mnumpy(), \u001b[43mb\u001b[49m\u001b[38;5;241;43m.\u001b[39;49m\u001b[43mexpand\u001b[49m\u001b[43m(\u001b[49m\u001b[43ma\u001b[49m\u001b[38;5;241;43m.\u001b[39;49m\u001b[43mshape\u001b[49m\u001b[43m)\u001b[49m\u001b[38;5;241m.\u001b[39mnumpy())\n\u001b[1;32m      4\u001b[0m \u001b[38;5;66;03m# max_is_1s = a\u001b[39;00m\n\u001b[1;32m      5\u001b[0m \u001b[38;5;66;03m# div = max_is_1s.sum(axis=0).expand(a.shape)\u001b[39;00m\n\u001b[1;32m      6\u001b[0m \u001b[38;5;66;03m# print(div.numpy())\u001b[39;00m\n\u001b[1;32m      7\u001b[0m \u001b[38;5;66;03m# res = max_is_1s.div(div).mul(b.expand(a.shape))\u001b[39;00m\n\u001b[1;32m      8\u001b[0m \u001b[38;5;66;03m# print(b.expand(a.shape).numpy())\u001b[39;00m\n\u001b[1;32m      9\u001b[0m \u001b[38;5;66;03m# print(res.numpy())\u001b[39;00m\n",
      "File \u001b[0;32m~/dev/deeplearning/tinygrad/tinygrad/tensor.py:376\u001b[0m, in \u001b[0;36mTensor.expand\u001b[0;34m(self, shape, *args)\u001b[0m\n\u001b[1;32m    374\u001b[0m \u001b[38;5;28;01mdef\u001b[39;00m \u001b[38;5;21mexpand\u001b[39m(\u001b[38;5;28mself\u001b[39m, shape, \u001b[38;5;241m*\u001b[39margs) \u001b[38;5;241m-\u001b[39m\u001b[38;5;241m>\u001b[39m Tensor:\n\u001b[1;32m    375\u001b[0m   new_shape \u001b[38;5;241m=\u001b[39m \u001b[38;5;28mtuple\u001b[39m([x \u001b[38;5;28;01mif\u001b[39;00m x \u001b[38;5;241m!=\u001b[39m \u001b[38;5;241m-\u001b[39m\u001b[38;5;241m1\u001b[39m \u001b[38;5;129;01mand\u001b[39;00m x \u001b[38;5;129;01mis\u001b[39;00m \u001b[38;5;129;01mnot\u001b[39;00m \u001b[38;5;28;01mNone\u001b[39;00m \u001b[38;5;28;01melse\u001b[39;00m s \u001b[38;5;28;01mfor\u001b[39;00m s,x \u001b[38;5;129;01min\u001b[39;00m \u001b[38;5;28mzip\u001b[39m(\u001b[38;5;28mself\u001b[39m\u001b[38;5;241m.\u001b[39mshape, argfix(shape, \u001b[38;5;241m*\u001b[39margs))])\n\u001b[0;32m--> 376\u001b[0m   \u001b[38;5;28;01mreturn\u001b[39;00m \u001b[43mF\u001b[49m\u001b[38;5;241;43m.\u001b[39;49m\u001b[43mExpand\u001b[49m\u001b[38;5;241;43m.\u001b[39;49m\u001b[43mapply\u001b[49m\u001b[43m(\u001b[49m\u001b[38;5;28;43mself\u001b[39;49m\u001b[43m,\u001b[49m\u001b[43m \u001b[49m\u001b[43mshape\u001b[49m\u001b[38;5;241;43m=\u001b[39;49m\u001b[43mnew_shape\u001b[49m\u001b[43m)\u001b[49m \u001b[38;5;28;01mif\u001b[39;00m new_shape \u001b[38;5;241m!=\u001b[39m \u001b[38;5;28mself\u001b[39m\u001b[38;5;241m.\u001b[39mshape \u001b[38;5;28;01melse\u001b[39;00m \u001b[38;5;28mself\u001b[39m\n",
      "File \u001b[0;32m~/dev/deeplearning/tinygrad/tinygrad/tensor.py:37\u001b[0m, in \u001b[0;36mFunction.apply\u001b[0;34m(fxn, *x, **kwargs)\u001b[0m\n\u001b[1;32m     35\u001b[0m ctx \u001b[38;5;241m=\u001b[39m fxn(x[\u001b[38;5;241m0\u001b[39m]\u001b[38;5;241m.\u001b[39mdevice, \u001b[38;5;241m*\u001b[39mx)\n\u001b[1;32m     36\u001b[0m ret \u001b[38;5;241m=\u001b[39m Tensor\u001b[38;5;241m.\u001b[39m\u001b[38;5;21m__new__\u001b[39m(Tensor)\n\u001b[0;32m---> 37\u001b[0m ret\u001b[38;5;241m.\u001b[39mlazydata, ret\u001b[38;5;241m.\u001b[39mrequires_grad, ret\u001b[38;5;241m.\u001b[39mgrad \u001b[38;5;241m=\u001b[39m \u001b[43mctx\u001b[49m\u001b[38;5;241;43m.\u001b[39;49m\u001b[43mforward\u001b[49m\u001b[43m(\u001b[49m\u001b[38;5;241;43m*\u001b[39;49m\u001b[43m[\u001b[49m\u001b[43mt\u001b[49m\u001b[38;5;241;43m.\u001b[39;49m\u001b[43mlazydata\u001b[49m\u001b[43m \u001b[49m\u001b[38;5;28;43;01mfor\u001b[39;49;00m\u001b[43m \u001b[49m\u001b[43mt\u001b[49m\u001b[43m \u001b[49m\u001b[38;5;129;43;01min\u001b[39;49;00m\u001b[43m \u001b[49m\u001b[43mx\u001b[49m\u001b[43m]\u001b[49m\u001b[43m,\u001b[49m\u001b[43m \u001b[49m\u001b[38;5;241;43m*\u001b[39;49m\u001b[38;5;241;43m*\u001b[39;49m\u001b[43mkwargs\u001b[49m\u001b[43m)\u001b[49m, ctx\u001b[38;5;241m.\u001b[39mrequires_grad, \u001b[38;5;28;01mNone\u001b[39;00m\n\u001b[1;32m     38\u001b[0m ret\u001b[38;5;241m.\u001b[39m_ctx \u001b[38;5;241m=\u001b[39m ctx \u001b[38;5;28;01mif\u001b[39;00m ctx\u001b[38;5;241m.\u001b[39mrequires_grad \u001b[38;5;129;01mand\u001b[39;00m \u001b[38;5;129;01mnot\u001b[39;00m Tensor\u001b[38;5;241m.\u001b[39mno_grad \u001b[38;5;28;01melse\u001b[39;00m \u001b[38;5;28;01mNone\u001b[39;00m  \u001b[38;5;66;03m# used by autograd engine\u001b[39;00m\n\u001b[1;32m     39\u001b[0m \u001b[38;5;28;01mreturn\u001b[39;00m ret\n",
      "File \u001b[0;32m~/dev/deeplearning/tinygrad/tinygrad/function.py:171\u001b[0m, in \u001b[0;36mExpand.forward\u001b[0;34m(self, x, shape)\u001b[0m\n\u001b[1;32m    169\u001b[0m \u001b[38;5;28;01mdef\u001b[39;00m \u001b[38;5;21mforward\u001b[39m(\u001b[38;5;28mself\u001b[39m, x:LazyBuffer, shape:Tuple[\u001b[38;5;28mint\u001b[39m, \u001b[38;5;241m.\u001b[39m\u001b[38;5;241m.\u001b[39m\u001b[38;5;241m.\u001b[39m]) \u001b[38;5;241m-\u001b[39m\u001b[38;5;241m>\u001b[39m LazyBuffer:\n\u001b[1;32m    170\u001b[0m   \u001b[38;5;28mself\u001b[39m\u001b[38;5;241m.\u001b[39mexpanded_axis \u001b[38;5;241m=\u001b[39m \u001b[38;5;28mtuple\u001b[39m(i \u001b[38;5;28;01mfor\u001b[39;00m i, (si, so) \u001b[38;5;129;01min\u001b[39;00m \u001b[38;5;28menumerate\u001b[39m(\u001b[38;5;28mzip\u001b[39m(x\u001b[38;5;241m.\u001b[39mshape, shape)) \u001b[38;5;28;01mif\u001b[39;00m si \u001b[38;5;241m!=\u001b[39m so)\n\u001b[0;32m--> 171\u001b[0m   \u001b[38;5;28;01mreturn\u001b[39;00m \u001b[43mx\u001b[49m\u001b[38;5;241;43m.\u001b[39;49m\u001b[43mexpand\u001b[49m\u001b[43m(\u001b[49m\u001b[43mshape\u001b[49m\u001b[43m)\u001b[49m\n",
      "File \u001b[0;32m~/dev/deeplearning/tinygrad/tinygrad/lazy.py:187\u001b[0m, in \u001b[0;36mLazyBuffer.expand\u001b[0;34m(self, arg)\u001b[0m\n\u001b[0;32m--> 187\u001b[0m \u001b[38;5;28;01mdef\u001b[39;00m \u001b[38;5;21mexpand\u001b[39m(\u001b[38;5;28mself\u001b[39m, arg:Tuple[sint, \u001b[38;5;241m.\u001b[39m\u001b[38;5;241m.\u001b[39m\u001b[38;5;241m.\u001b[39m]): \u001b[38;5;28;01mreturn\u001b[39;00m \u001b[38;5;28mself\u001b[39m\u001b[38;5;241m.\u001b[39m_view(\u001b[38;5;28;43mself\u001b[39;49m\u001b[38;5;241;43m.\u001b[39;49m\u001b[43mst\u001b[49m\u001b[38;5;241;43m.\u001b[39;49m\u001b[43mexpand\u001b[49m\u001b[43m(\u001b[49m\u001b[43marg\u001b[49m\u001b[43m)\u001b[49m)\n",
      "File \u001b[0;32m~/dev/deeplearning/tinygrad/tinygrad/shape/shapetracker.py:107\u001b[0m, in \u001b[0;36mShapeTracker.expand\u001b[0;34m(self, new_shape)\u001b[0m\n\u001b[0;32m--> 107\u001b[0m \u001b[38;5;28;01mdef\u001b[39;00m \u001b[38;5;21mexpand\u001b[39m(\u001b[38;5;28mself\u001b[39m, new_shape: Tuple[sint, \u001b[38;5;241m.\u001b[39m\u001b[38;5;241m.\u001b[39m\u001b[38;5;241m.\u001b[39m]) \u001b[38;5;241m-\u001b[39m\u001b[38;5;241m>\u001b[39m ShapeTracker: \u001b[38;5;28;01mreturn\u001b[39;00m ShapeTracker(\u001b[38;5;28mself\u001b[39m\u001b[38;5;241m.\u001b[39mviews[\u001b[38;5;241m0\u001b[39m:\u001b[38;5;241m-\u001b[39m\u001b[38;5;241m1\u001b[39m] \u001b[38;5;241m+\u001b[39m (\u001b[38;5;28;43mself\u001b[39;49m\u001b[38;5;241;43m.\u001b[39;49m\u001b[43mviews\u001b[49m\u001b[43m[\u001b[49m\u001b[38;5;241;43m-\u001b[39;49m\u001b[38;5;241;43m1\u001b[39;49m\u001b[43m]\u001b[49m\u001b[38;5;241;43m.\u001b[39;49m\u001b[43mexpand\u001b[49m\u001b[43m(\u001b[49m\u001b[43mnew_shape\u001b[49m\u001b[43m)\u001b[49m, ))\n",
      "File \u001b[0;32m~/dev/deeplearning/tinygrad/tinygrad/shape/view.py:236\u001b[0m, in \u001b[0;36mView.expand\u001b[0;34m(self, new_shape)\u001b[0m\n\u001b[1;32m    234\u001b[0m   \u001b[38;5;28;01massert\u001b[39;00m \u001b[38;5;28mall\u001b[39m((s \u001b[38;5;241m==\u001b[39m x \u001b[38;5;241m==\u001b[39m \u001b[38;5;241m0\u001b[39m) \u001b[38;5;129;01mor\u001b[39;00m (s \u001b[38;5;241m>\u001b[39m \u001b[38;5;241m0\u001b[39m \u001b[38;5;129;01mand\u001b[39;00m (x \u001b[38;5;241m%\u001b[39m s) \u001b[38;5;241m==\u001b[39m \u001b[38;5;241m0\u001b[39m) \u001b[38;5;28;01mfor\u001b[39;00m s,x \u001b[38;5;129;01min\u001b[39;00m \u001b[38;5;28mzip\u001b[39m(\u001b[38;5;28mself\u001b[39m\u001b[38;5;241m.\u001b[39mshape, new_shape)), \u001b[38;5;124mf\u001b[39m\u001b[38;5;124m\"\u001b[39m\u001b[38;5;124mcan\u001b[39m\u001b[38;5;124m'\u001b[39m\u001b[38;5;124mt expand \u001b[39m\u001b[38;5;132;01m{\u001b[39;00m\u001b[38;5;28mself\u001b[39m\u001b[38;5;241m.\u001b[39mshape\u001b[38;5;132;01m}\u001b[39;00m\u001b[38;5;124m into \u001b[39m\u001b[38;5;132;01m{\u001b[39;00mnew_shape\u001b[38;5;132;01m}\u001b[39;00m\u001b[38;5;124m\"\u001b[39m\n\u001b[1;32m    235\u001b[0m   \u001b[38;5;28;01mreturn\u001b[39;00m View\u001b[38;5;241m.\u001b[39mcreate(new_shape)\n\u001b[0;32m--> 236\u001b[0m \u001b[38;5;28;01massert\u001b[39;00m \u001b[38;5;28mall\u001b[39m((s \u001b[38;5;241m==\u001b[39m x \u001b[38;5;129;01mor\u001b[39;00m (s \u001b[38;5;241m==\u001b[39m \u001b[38;5;241m1\u001b[39m \u001b[38;5;129;01mand\u001b[39;00m st \u001b[38;5;241m==\u001b[39m \u001b[38;5;241m0\u001b[39m)) \u001b[38;5;28;01mfor\u001b[39;00m s,x,st \u001b[38;5;129;01min\u001b[39;00m \u001b[38;5;28mzip\u001b[39m(\u001b[38;5;28mself\u001b[39m\u001b[38;5;241m.\u001b[39mshape, new_shape, \u001b[38;5;28mself\u001b[39m\u001b[38;5;241m.\u001b[39mstrides)), \u001b[38;5;124mf\u001b[39m\u001b[38;5;124m\"\u001b[39m\u001b[38;5;124mcan\u001b[39m\u001b[38;5;124m'\u001b[39m\u001b[38;5;124mt expand \u001b[39m\u001b[38;5;132;01m{\u001b[39;00m\u001b[38;5;28mself\u001b[39m\u001b[38;5;241m.\u001b[39mshape\u001b[38;5;132;01m}\u001b[39;00m\u001b[38;5;124m into \u001b[39m\u001b[38;5;132;01m{\u001b[39;00mnew_shape\u001b[38;5;132;01m}\u001b[39;00m\u001b[38;5;124m\"\u001b[39m\n\u001b[1;32m    237\u001b[0m \u001b[38;5;66;03m# NOTE: can the mask ever be (0,0)?\u001b[39;00m\n\u001b[1;32m    238\u001b[0m mask \u001b[38;5;241m=\u001b[39m \u001b[38;5;28mtuple\u001b[39m([(((\u001b[38;5;241m0\u001b[39m,\u001b[38;5;241m0\u001b[39m) \u001b[38;5;28;01mif\u001b[39;00m m \u001b[38;5;241m!=\u001b[39m (\u001b[38;5;241m0\u001b[39m,\u001b[38;5;241m1\u001b[39m) \u001b[38;5;28;01melse\u001b[39;00m (\u001b[38;5;241m0\u001b[39m,ns)) \u001b[38;5;28;01mif\u001b[39;00m s \u001b[38;5;241m!=\u001b[39m ns \u001b[38;5;28;01melse\u001b[39;00m m) \u001b[38;5;28;01mfor\u001b[39;00m m,s,ns \u001b[38;5;129;01min\u001b[39;00m \u001b[38;5;28mzip\u001b[39m(\u001b[38;5;28mself\u001b[39m\u001b[38;5;241m.\u001b[39mmask, \u001b[38;5;28mself\u001b[39m\u001b[38;5;241m.\u001b[39mshape, new_shape)]) \u001b[38;5;28;01mif\u001b[39;00m \u001b[38;5;28mself\u001b[39m\u001b[38;5;241m.\u001b[39mmask \u001b[38;5;28;01melse\u001b[39;00m \u001b[38;5;28;01mNone\u001b[39;00m\n",
      "\u001b[0;31mAssertionError\u001b[0m: can't expand (3,) into (2,)"
     ]
    }
   ],
   "source": [
    "a = Tensor([[1, 2, 3], [4, 5, 6]])\n",
    "b = a.max(axis=0)\n",
    "print(b.numpy(), b.expand(a.shape).numpy())\n",
    "# max_is_1s = a\n",
    "# div = max_is_1s.sum(axis=0).expand(a.shape)\n",
    "# print(div.numpy())\n",
    "# res = max_is_1s.div(div).mul(b.expand(a.shape))\n",
    "# print(b.expand(a.shape).numpy())\n",
    "# print(res.numpy())\n"
   ]
  }
 ],
 "metadata": {
  "kernelspec": {
   "display_name": "Python 3",
   "language": "python",
   "name": "python3"
  },
  "language_info": {
   "codemirror_mode": {
    "name": "ipython",
    "version": 3
   },
   "file_extension": ".py",
   "mimetype": "text/x-python",
   "name": "python",
   "nbconvert_exporter": "python",
   "pygments_lexer": "ipython3",
   "version": "3.12.2"
  }
 },
 "nbformat": 4,
 "nbformat_minor": 2
}
