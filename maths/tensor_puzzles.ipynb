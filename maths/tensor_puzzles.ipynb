{
 "cells": [
  {
   "cell_type": "code",
   "execution_count": 38,
   "metadata": {},
   "outputs": [],
   "source": [
    "# Inspired by https://github.com/srush/Tensor-Puzzles\n",
    "from tinygrad import Tensor\n",
    "import numpy as np"
   ]
  },
  {
   "cell_type": "code",
   "execution_count": null,
   "metadata": {},
   "outputs": [],
   "source": [
    "# These puzzles are about broadcasting. Know this rule.\n",
    "# Each puzzle needs to be solved in 1 line (<80 columns) of code.\n",
    "# You are allowed @, arithmetic, comparison, shape, any indexing (e.g. a[:j], a[:, None], a[arange(10)]), and previous puzzle functions.\n",
    "# You are not allowed anything else. No view, sum, take, squeeze, tensor."
   ]
  },
  {
   "cell_type": "code",
   "execution_count": 6,
   "metadata": {},
   "outputs": [
    {
     "name": "stdout",
     "output_type": "stream",
     "text": [
      "<Tensor <LB METAL (3,) int (<BinaryOps.ADD: 1>, None)> on METAL with grad None>\n"
     ]
    }
   ],
   "source": [
    "# arange\n",
    "print(Tensor.arange(3))"
   ]
  },
  {
   "cell_type": "code",
   "execution_count": 8,
   "metadata": {},
   "outputs": [
    {
     "name": "stdout",
     "output_type": "stream",
     "text": [
      "[<Tensor <LB METAL (5, 4) int (<BinaryOps.ADD: 1>, None)> on METAL with grad None>, <Tensor <LB METAL (3, 2) int (<BinaryOps.ADD: 1>, None)> on METAL with grad None>]\n"
     ]
    }
   ],
   "source": [
    "# Example of broadcasting.\n",
    "examples = [(Tensor.arange(4), Tensor.arange(5)[:, None]) ,\n",
    "            (Tensor.arange(3)[:, None], Tensor.arange(2))]\n",
    "\n",
    "print([a + b for a,b in examples])"
   ]
  },
  {
   "cell_type": "code",
   "execution_count": 12,
   "metadata": {},
   "outputs": [
    {
     "data": {
      "text/plain": [
       "[array([0], dtype=int32),\n",
       " array([-10,   1], dtype=int32),\n",
       " array([-10,   1], dtype=int32),\n",
       " array([[-10,   1],\n",
       "        [  1,   0]], dtype=int32),\n",
       " array([[-10,   0],\n",
       "        [ 10,   0]], dtype=int32)]"
      ]
     },
     "execution_count": 12,
     "metadata": {},
     "output_type": "execute_result"
    }
   ],
   "source": [
    "# where\n",
    "examples = [(Tensor([False]), Tensor([10]), Tensor([0])),\n",
    "            (Tensor([False, True]), Tensor([1, 1]), Tensor([-10, 0])),\n",
    "            (Tensor([False, True]), Tensor([1]), Tensor([-10, 0])),\n",
    "            (Tensor([[False, True], [True, False]]), Tensor([1]), Tensor([-10, 0])),\n",
    "            (Tensor([[False, True], [True, False]]), Tensor([[0], [10]]), Tensor([-10, 0])),\n",
    "           ]\n",
    "\n",
    "[q.where(a, b).numpy() for q, a, b in examples]"
   ]
  },
  {
   "cell_type": "code",
   "execution_count": 40,
   "metadata": {},
   "outputs": [],
   "source": [
    "# Puzzle 1 - ones\n",
    "def ones(i) -> Tensor:\n",
    "  # return Tensor.arange(i) - Tensor.arange(i) + 1\n",
    "  return Tensor.where(Tensor.arange(i) > -1, 1, 0)\n",
    "\n",
    "assert np.array_equal(ones(5).numpy(), np.ones(5))"
   ]
  },
  {
   "cell_type": "code",
   "execution_count": 37,
   "metadata": {},
   "outputs": [],
   "source": [
    "# Puzzle 2 - sum\n",
    "def sum(a: Tensor) -> Tensor:\n",
    "  return a @ ones(a.shape[0])\n",
    "\n",
    "a = Tensor([1, 2, 4, 5])\n",
    "assert sum(a).numpy() == a.sum().numpy()"
   ]
  },
  {
   "cell_type": "code",
   "execution_count": 50,
   "metadata": {},
   "outputs": [],
   "source": [
    "# Puzzle 3 - outer\n",
    "def outer(a: Tensor, b: Tensor) -> Tensor:\n",
    "  return a[:, None] * b[None, :]\n",
    "\n",
    "a = Tensor.randint(6)\n",
    "b = Tensor.randint(3)\n",
    "assert np.array_equal(outer(a, b).numpy(), np.outer(a.numpy(), b.numpy()))\n"
   ]
  }
 ],
 "metadata": {
  "kernelspec": {
   "display_name": "Python 3",
   "language": "python",
   "name": "python3"
  },
  "language_info": {
   "codemirror_mode": {
    "name": "ipython",
    "version": 3
   },
   "file_extension": ".py",
   "mimetype": "text/x-python",
   "name": "python",
   "nbconvert_exporter": "python",
   "pygments_lexer": "ipython3",
   "version": "3.12.2"
  }
 },
 "nbformat": 4,
 "nbformat_minor": 2
}
