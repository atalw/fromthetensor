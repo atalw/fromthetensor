{
 "cells": [
  {
   "cell_type": "code",
   "execution_count": 1,
   "metadata": {},
   "outputs": [],
   "source": [
    "# Inspired by https://github.com/srush/Tensor-Puzzles\n",
    "from tinygrad import Tensor\n",
    "import numpy as np"
   ]
  },
  {
   "cell_type": "code",
   "execution_count": null,
   "metadata": {},
   "outputs": [],
   "source": [
    "# These puzzles are about broadcasting. Know this rule.\n",
    "# Each puzzle needs to be solved in 1 line (<80 columns) of code.\n",
    "# You are allowed @, arithmetic, comparison, shape, any indexing (e.g. a[:j], a[:, None], a[arange(10)]), and previous puzzle functions.\n",
    "# You are not allowed anything else. No view, sum, take, squeeze, tensor."
   ]
  },
  {
   "cell_type": "code",
   "execution_count": 4,
   "metadata": {},
   "outputs": [
    {
     "name": "stdout",
     "output_type": "stream",
     "text": [
      "<Tensor <LB METAL (3,) int (<BinaryOps.ADD: 1>, None)> on METAL with grad None>\n"
     ]
    }
   ],
   "source": [
    "# arange\n",
    "print(Tensor.arange(3))"
   ]
  },
  {
   "cell_type": "code",
   "execution_count": 3,
   "metadata": {},
   "outputs": [
    {
     "name": "stdout",
     "output_type": "stream",
     "text": [
      "[<Tensor <LB METAL (5, 4) int (<BinaryOps.ADD: 1>, None)> on METAL with grad None>, <Tensor <LB METAL (3, 2) int (<BinaryOps.ADD: 1>, None)> on METAL with grad None>]\n"
     ]
    }
   ],
   "source": [
    "# Example of broadcasting.\n",
    "examples = [(Tensor.arange(4), Tensor.arange(5)[:, None]) ,\n",
    "            (Tensor.arange(3)[:, None], Tensor.arange(2))]\n",
    "\n",
    "print([a + b for a,b in examples])"
   ]
  },
  {
   "cell_type": "code",
   "execution_count": 5,
   "metadata": {},
   "outputs": [
    {
     "data": {
      "text/plain": [
       "[array([0], dtype=int32),\n",
       " array([-10,   1], dtype=int32),\n",
       " array([-10,   1], dtype=int32),\n",
       " array([[-10,   1],\n",
       "        [  1,   0]], dtype=int32),\n",
       " array([[-10,   0],\n",
       "        [ 10,   0]], dtype=int32)]"
      ]
     },
     "execution_count": 5,
     "metadata": {},
     "output_type": "execute_result"
    }
   ],
   "source": [
    "# where\n",
    "examples = [(Tensor([False]), Tensor([10]), Tensor([0])),\n",
    "            (Tensor([False, True]), Tensor([1, 1]), Tensor([-10, 0])),\n",
    "            (Tensor([False, True]), Tensor([1]), Tensor([-10, 0])),\n",
    "            (Tensor([[False, True], [True, False]]), Tensor([1]), Tensor([-10, 0])),\n",
    "            (Tensor([[False, True], [True, False]]), Tensor([[0], [10]]), Tensor([-10, 0])),\n",
    "           ]\n",
    "\n",
    "[q.where(a, b).numpy() for q, a, b in examples]"
   ]
  },
  {
   "cell_type": "code",
   "execution_count": 13,
   "metadata": {},
   "outputs": [],
   "source": [
    "# Puzzle 1 - ones\n",
    "def ones(i) -> Tensor:\n",
    "  # return Tensor.arange(i) - Tensor.arange(i) + 1\n",
    "  return Tensor.where(Tensor.arange(i) > -1, 1, 0)\n",
    "\n",
    "assert np.array_equal(ones(5).numpy(), np.ones(5))"
   ]
  },
  {
   "cell_type": "code",
   "execution_count": 7,
   "metadata": {},
   "outputs": [],
   "source": [
    "# Puzzle 2 - sum\n",
    "def sum(a: Tensor) -> Tensor:\n",
    "  return a @ ones(a.shape[0])\n",
    "\n",
    "a = Tensor([1, 2, 4, 5])\n",
    "assert sum(a).numpy() == a.sum().numpy()"
   ]
  },
  {
   "cell_type": "code",
   "execution_count": 8,
   "metadata": {},
   "outputs": [],
   "source": [
    "# Puzzle 3 - outer\n",
    "def outer(a: Tensor, b: Tensor) -> Tensor:\n",
    "  return a[:, None] * b[None, :]\n",
    "\n",
    "a = Tensor.randint(6)\n",
    "b = Tensor.randint(3)\n",
    "assert np.array_equal(outer(a, b).numpy(), np.outer(a.numpy(), b.numpy()))"
   ]
  },
  {
   "cell_type": "code",
   "execution_count": 56,
   "metadata": {},
   "outputs": [],
   "source": [
    "# Puzzle 4 - diag\n",
    "def diag(a: Tensor) -> Tensor:\n",
    "  return a[Tensor.arange(a.shape[0]), Tensor.arange(a.shape[0])]\n",
    "\n",
    "a = Tensor.randint((5, 5))\n",
    "assert np.array_equal(diag(a).numpy(), np.diag(a.numpy()))"
   ]
  },
  {
   "cell_type": "code",
   "execution_count": 57,
   "metadata": {},
   "outputs": [],
   "source": [
    "# Puzzle 5 - eye\n",
    "def eye(i) -> Tensor:\n",
    "  # return Tensor.where(Tensor.arange(i)[:, None] == Tensor.arange(i)[None, :], 1, 0)\n",
    "  return Tensor.arange(i)[:, None] == Tensor.arange(i)\n",
    "\n",
    "assert np.array_equal(eye(5).numpy(), np.eye(5))"
   ]
  },
  {
   "cell_type": "code",
   "execution_count": 61,
   "metadata": {},
   "outputs": [],
   "source": [
    "# Puzzle 6 - triu\n",
    "def triu(j: Tensor) -> Tensor:\n",
    "  return Tensor.where(Tensor.arange(j)[:, None] <= Tensor.arange(j)[None, :], 1, 0)\n",
    "\n",
    "def triu(a: Tensor, j: int) -> Tensor:\n",
    "  # return Tensor.where(Tensor.arange(a.shape[0])[:, None] <= (Tensor.arange(a.shape[0])[None, :] - j), a, 0)\n",
    "  return Tensor.where(Tensor.arange(a.shape[0])[:, None] <= (Tensor.arange(a.shape[0]) - j), a, 0) # cleaner\n",
    "\n",
    "a = Tensor.randint((5, 5))\n",
    "assert np.array_equal(triu(a, 3).numpy(), np.triu(a.numpy(), 3))\n",
    "assert np.array_equal(triu(a, -1).numpy(), np.triu(a.numpy(), -1))"
   ]
  },
  {
   "cell_type": "code",
   "execution_count": 65,
   "metadata": {},
   "outputs": [],
   "source": [
    "# Puzzle 7 - cumsum\n",
    "def cumsum(a: Tensor) -> Tensor:\n",
    "  return a @ Tensor.where(Tensor.arange(a.shape[0])[:, None] <= Tensor.arange(a.shape[0]), 1, 0)\n",
    "\n",
    "a = Tensor.randint(5)\n",
    "assert np.array_equal(cumsum(a).numpy(), np.cumsum(a.numpy()))"
   ]
  },
  {
   "cell_type": "code",
   "execution_count": 110,
   "metadata": {},
   "outputs": [],
   "source": [
    "# Puzzle 8 - diff\n",
    "def diff(a: Tensor, i:int) -> Tensor:\n",
    "  return a[:i] - Tensor.where(Tensor.arange(i) != 0, a[Tensor.arange(i) - 1], 0)\n",
    "\n",
    "a = Tensor.randint(5)\n",
    "# assert np.array_equal(diff(a, 2).numpy(), np.diff(a.numpy(), 2))"
   ]
  },
  {
   "cell_type": "code",
   "execution_count": 117,
   "metadata": {},
   "outputs": [],
   "source": [
    "# Puzzle 9 - vstack\n",
    "def vstack(a: Tensor, b: Tensor):\n",
    "  return Tensor.where(Tensor.arange(2)[:, None] == ones(a.shape[0]), b, a)\n",
    "\n",
    "a = Tensor.randint(5)\n",
    "b = Tensor.randint(5)\n",
    "assert np.array_equal(vstack(a, b).numpy(), np.vstack((a.numpy(), b.numpy())))"
   ]
  },
  {
   "cell_type": "code",
   "execution_count": 121,
   "metadata": {},
   "outputs": [
    {
     "ename": "TypeError",
     "evalue": "unsupported operand type(s) for %: 'Tensor' and 'int'",
     "output_type": "error",
     "traceback": [
      "\u001b[0;31m---------------------------------------------------------------------------\u001b[0m",
      "\u001b[0;31mTypeError\u001b[0m                                 Traceback (most recent call last)",
      "Cell \u001b[0;32mIn[121], line 7\u001b[0m\n\u001b[1;32m      4\u001b[0m   \u001b[38;5;28;01mreturn\u001b[39;00m a[(Tensor\u001b[38;5;241m.\u001b[39marange(i)\u001b[38;5;241m+\u001b[39m\u001b[38;5;241m1\u001b[39m) \u001b[38;5;241m%\u001b[39m i]\n\u001b[1;32m      6\u001b[0m a \u001b[38;5;241m=\u001b[39m Tensor\u001b[38;5;241m.\u001b[39mrandint(\u001b[38;5;241m5\u001b[39m)\n\u001b[0;32m----> 7\u001b[0m \u001b[38;5;28;01massert\u001b[39;00m np\u001b[38;5;241m.\u001b[39marray_equal(\u001b[43mroll\u001b[49m\u001b[43m(\u001b[49m\u001b[43ma\u001b[49m\u001b[43m,\u001b[49m\u001b[43m \u001b[49m\u001b[38;5;241;43m2\u001b[39;49m\u001b[43m)\u001b[49m\u001b[38;5;241m.\u001b[39mnumpy(), np\u001b[38;5;241m.\u001b[39mroll((a\u001b[38;5;241m.\u001b[39mnumpy(), \u001b[38;5;241m2\u001b[39m)))\n",
      "Cell \u001b[0;32mIn[121], line 4\u001b[0m, in \u001b[0;36mroll\u001b[0;34m(a, i)\u001b[0m\n\u001b[1;32m      2\u001b[0m \u001b[38;5;28;01mdef\u001b[39;00m \u001b[38;5;21mroll\u001b[39m(a: Tensor, i: \u001b[38;5;28mint\u001b[39m) \u001b[38;5;241m-\u001b[39m\u001b[38;5;241m>\u001b[39m Tensor:\n\u001b[1;32m      3\u001b[0m   \u001b[38;5;66;03m# return Tensor.where(, a[Tensor.arange(i-1)], a[Tensor.arange(i+1)])\u001b[39;00m\n\u001b[0;32m----> 4\u001b[0m   \u001b[38;5;28;01mreturn\u001b[39;00m a[\u001b[43m(\u001b[49m\u001b[43mTensor\u001b[49m\u001b[38;5;241;43m.\u001b[39;49m\u001b[43marange\u001b[49m\u001b[43m(\u001b[49m\u001b[43mi\u001b[49m\u001b[43m)\u001b[49m\u001b[38;5;241;43m+\u001b[39;49m\u001b[38;5;241;43m1\u001b[39;49m\u001b[43m)\u001b[49m\u001b[43m \u001b[49m\u001b[38;5;241;43m%\u001b[39;49m\u001b[43m \u001b[49m\u001b[43mi\u001b[49m]\n",
      "\u001b[0;31mTypeError\u001b[0m: unsupported operand type(s) for %: 'Tensor' and 'int'"
     ]
    }
   ],
   "source": [
    "# Puzzle 10 - roll\n",
    "def roll(a: Tensor, i: int) -> Tensor:\n",
    "  # return Tensor.where(, a[Tensor.arange(i-1)], a[Tensor.arange(i+1)])\n",
    "  return a[(Tensor.arange(i) + 1) % i]\n",
    "\n",
    "a = Tensor.randint(5)\n",
    "assert np.array_equal(roll(a, 2).numpy(), np.roll((a.numpy(), 2)))"
   ]
  },
  {
   "cell_type": "code",
   "execution_count": null,
   "metadata": {},
   "outputs": [],
   "source": []
  },
  {
   "cell_type": "code",
   "execution_count": null,
   "metadata": {},
   "outputs": [],
   "source": []
  }
 ],
 "metadata": {
  "kernelspec": {
   "display_name": "Python 3",
   "language": "python",
   "name": "python3"
  },
  "language_info": {
   "codemirror_mode": {
    "name": "ipython",
    "version": 3
   },
   "file_extension": ".py",
   "mimetype": "text/x-python",
   "name": "python",
   "nbconvert_exporter": "python",
   "pygments_lexer": "ipython3",
   "version": "3.12.2"
  }
 },
 "nbformat": 4,
 "nbformat_minor": 2
}
