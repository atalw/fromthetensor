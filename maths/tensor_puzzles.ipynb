{
 "cells": [
  {
   "cell_type": "code",
   "execution_count": 1,
   "metadata": {},
   "outputs": [],
   "source": [
    "# Inspired by https://github.com/srush/Tensor-Puzzles\n",
    "from tinygrad import Tensor\n",
    "import numpy as np"
   ]
  },
  {
   "cell_type": "code",
   "execution_count": null,
   "metadata": {},
   "outputs": [],
   "source": [
    "# These puzzles are about broadcasting. Know this rule.\n",
    "# Each puzzle needs to be solved in 1 line (<80 columns) of code.\n",
    "# You are allowed @, arithmetic, comparison, shape, any indexing (e.g. a[:j], a[:, None], a[arange(10)]), and previous puzzle functions.\n",
    "# You are not allowed anything else. No view, sum, take, squeeze, tensor."
   ]
  },
  {
   "cell_type": "code",
   "execution_count": 4,
   "metadata": {},
   "outputs": [
    {
     "name": "stdout",
     "output_type": "stream",
     "text": [
      "<Tensor <LB METAL (3,) int (<BinaryOps.ADD: 1>, None)> on METAL with grad None>\n"
     ]
    }
   ],
   "source": [
    "# arange\n",
    "print(Tensor.arange(3))"
   ]
  },
  {
   "cell_type": "code",
   "execution_count": 3,
   "metadata": {},
   "outputs": [
    {
     "name": "stdout",
     "output_type": "stream",
     "text": [
      "[<Tensor <LB METAL (5, 4) int (<BinaryOps.ADD: 1>, None)> on METAL with grad None>, <Tensor <LB METAL (3, 2) int (<BinaryOps.ADD: 1>, None)> on METAL with grad None>]\n"
     ]
    }
   ],
   "source": [
    "# Example of broadcasting.\n",
    "examples = [(Tensor.arange(4), Tensor.arange(5)[:, None]) ,\n",
    "            (Tensor.arange(3)[:, None], Tensor.arange(2))]\n",
    "\n",
    "print([a + b for a,b in examples])"
   ]
  },
  {
   "cell_type": "code",
   "execution_count": 5,
   "metadata": {},
   "outputs": [
    {
     "data": {
      "text/plain": [
       "[array([0], dtype=int32),\n",
       " array([-10,   1], dtype=int32),\n",
       " array([-10,   1], dtype=int32),\n",
       " array([[-10,   1],\n",
       "        [  1,   0]], dtype=int32),\n",
       " array([[-10,   0],\n",
       "        [ 10,   0]], dtype=int32)]"
      ]
     },
     "execution_count": 5,
     "metadata": {},
     "output_type": "execute_result"
    }
   ],
   "source": [
    "# where\n",
    "examples = [(Tensor([False]), Tensor([10]), Tensor([0])),\n",
    "            (Tensor([False, True]), Tensor([1, 1]), Tensor([-10, 0])),\n",
    "            (Tensor([False, True]), Tensor([1]), Tensor([-10, 0])),\n",
    "            (Tensor([[False, True], [True, False]]), Tensor([1]), Tensor([-10, 0])),\n",
    "            (Tensor([[False, True], [True, False]]), Tensor([[0], [10]]), Tensor([-10, 0])),\n",
    "           ]\n",
    "\n",
    "[q.where(a, b).numpy() for q, a, b in examples]"
   ]
  },
  {
   "cell_type": "code",
   "execution_count": 13,
   "metadata": {},
   "outputs": [],
   "source": [
    "# Puzzle 1 - ones\n",
    "def ones(i) -> Tensor:\n",
    "  # return Tensor.arange(i) - Tensor.arange(i) + 1\n",
    "  return Tensor.where(Tensor.arange(i) > -1, 1, 0)\n",
    "\n",
    "assert np.array_equal(ones(5).numpy(), np.ones(5))"
   ]
  },
  {
   "cell_type": "code",
   "execution_count": 7,
   "metadata": {},
   "outputs": [],
   "source": [
    "# Puzzle 2 - sum\n",
    "def sum(a: Tensor) -> Tensor:\n",
    "  return a @ ones(a.shape[0])\n",
    "\n",
    "a = Tensor([1, 2, 4, 5])\n",
    "assert sum(a).numpy() == a.sum().numpy()"
   ]
  },
  {
   "cell_type": "code",
   "execution_count": 8,
   "metadata": {},
   "outputs": [],
   "source": [
    "# Puzzle 3 - outer\n",
    "def outer(a: Tensor, b: Tensor) -> Tensor:\n",
    "  return a[:, None] * b[None, :]\n",
    "\n",
    "a = Tensor.randint(6)\n",
    "b = Tensor.randint(3)\n",
    "assert np.array_equal(outer(a, b).numpy(), np.outer(a.numpy(), b.numpy()))"
   ]
  },
  {
   "cell_type": "code",
   "execution_count": 56,
   "metadata": {},
   "outputs": [],
   "source": [
    "# Puzzle 4 - diag\n",
    "def diag(a: Tensor) -> Tensor:\n",
    "  return a[Tensor.arange(a.shape[0]), Tensor.arange(a.shape[0])]\n",
    "\n",
    "a = Tensor.randint((5, 5))\n",
    "assert np.array_equal(diag(a).numpy(), np.diag(a.numpy()))"
   ]
  },
  {
   "cell_type": "code",
   "execution_count": 57,
   "metadata": {},
   "outputs": [],
   "source": [
    "# Puzzle 5 - eye\n",
    "def eye(i) -> Tensor:\n",
    "  # return Tensor.where(Tensor.arange(i)[:, None] == Tensor.arange(i)[None, :], 1, 0)\n",
    "  return Tensor.arange(i)[:, None] == Tensor.arange(i)\n",
    "\n",
    "assert np.array_equal(eye(5).numpy(), np.eye(5))"
   ]
  },
  {
   "cell_type": "code",
   "execution_count": 61,
   "metadata": {},
   "outputs": [],
   "source": [
    "# Puzzle 6 - triu\n",
    "def triu(j: Tensor) -> Tensor:\n",
    "  return Tensor.where(Tensor.arange(j)[:, None] <= Tensor.arange(j)[None, :], 1, 0)\n",
    "\n",
    "def triu(a: Tensor, j: int) -> Tensor:\n",
    "  # return Tensor.where(Tensor.arange(a.shape[0])[:, None] <= (Tensor.arange(a.shape[0])[None, :] - j), a, 0)\n",
    "  return Tensor.where(Tensor.arange(a.shape[0])[:, None] <= (Tensor.arange(a.shape[0]) - j), a, 0) # cleaner\n",
    "\n",
    "a = Tensor.randint((5, 5))\n",
    "assert np.array_equal(triu(a, 3).numpy(), np.triu(a.numpy(), 3))\n",
    "assert np.array_equal(triu(a, -1).numpy(), np.triu(a.numpy(), -1))"
   ]
  },
  {
   "cell_type": "code",
   "execution_count": 65,
   "metadata": {},
   "outputs": [],
   "source": [
    "# Puzzle 7 - cumsum\n",
    "def cumsum(a: Tensor) -> Tensor:\n",
    "  return a @ Tensor.where(Tensor.arange(a.shape[0])[:, None] <= Tensor.arange(a.shape[0]), 1, 0)\n",
    "\n",
    "a = Tensor.randint(5)\n",
    "assert np.array_equal(cumsum(a).numpy(), np.cumsum(a.numpy()))"
   ]
  },
  {
   "cell_type": "code",
   "execution_count": 110,
   "metadata": {},
   "outputs": [],
   "source": [
    "# Puzzle 8 - diff\n",
    "def diff(a: Tensor, i:int) -> Tensor:\n",
    "  return a[:i] - Tensor.where(Tensor.arange(i) != 0, a[Tensor.arange(i) - 1], 0)\n",
    "\n",
    "a = Tensor.randint(5)\n",
    "# assert np.array_equal(diff(a, 2).numpy(), np.diff(a.numpy(), 2))"
   ]
  },
  {
   "cell_type": "code",
   "execution_count": 117,
   "metadata": {},
   "outputs": [],
   "source": [
    "# Puzzle 9 - vstack\n",
    "def vstack(a: Tensor, b: Tensor):\n",
    "  return Tensor.where(Tensor.arange(2)[:, None] == ones(a.shape[0]), b, a)\n",
    "\n",
    "a = Tensor.randint(5)\n",
    "b = Tensor.randint(5)\n",
    "assert np.array_equal(vstack(a, b).numpy(), np.vstack((a.numpy(), b.numpy())))"
   ]
  },
  {
   "cell_type": "code",
   "execution_count": 123,
   "metadata": {},
   "outputs": [
    {
     "ename": "TypeError",
     "evalue": "unsupported operand type(s) for %: 'Tensor' and 'int'",
     "output_type": "error",
     "traceback": [
      "\u001b[0;31m---------------------------------------------------------------------------\u001b[0m",
      "\u001b[0;31mTypeError\u001b[0m                                 Traceback (most recent call last)",
      "Cell \u001b[0;32mIn[123], line 6\u001b[0m\n\u001b[1;32m      3\u001b[0m   \u001b[38;5;28;01mreturn\u001b[39;00m a[(Tensor\u001b[38;5;241m.\u001b[39marange(i) \u001b[38;5;241m+\u001b[39m \u001b[38;5;241m1\u001b[39m) \u001b[38;5;241m%\u001b[39m i]\n\u001b[1;32m      5\u001b[0m a \u001b[38;5;241m=\u001b[39m Tensor\u001b[38;5;241m.\u001b[39mrandint(\u001b[38;5;241m5\u001b[39m)\n\u001b[0;32m----> 6\u001b[0m \u001b[38;5;28;01massert\u001b[39;00m np\u001b[38;5;241m.\u001b[39marray_equal(\u001b[43mroll\u001b[49m\u001b[43m(\u001b[49m\u001b[43ma\u001b[49m\u001b[43m,\u001b[49m\u001b[43m \u001b[49m\u001b[38;5;241;43m2\u001b[39;49m\u001b[43m)\u001b[49m\u001b[38;5;241m.\u001b[39mnumpy(), np\u001b[38;5;241m.\u001b[39mroll((a\u001b[38;5;241m.\u001b[39mnumpy(), \u001b[38;5;241m2\u001b[39m)))\n",
      "Cell \u001b[0;32mIn[123], line 3\u001b[0m, in \u001b[0;36mroll\u001b[0;34m(a, i)\u001b[0m\n\u001b[1;32m      2\u001b[0m \u001b[38;5;28;01mdef\u001b[39;00m \u001b[38;5;21mroll\u001b[39m(a: Tensor, i: \u001b[38;5;28mint\u001b[39m) \u001b[38;5;241m-\u001b[39m\u001b[38;5;241m>\u001b[39m Tensor:\n\u001b[0;32m----> 3\u001b[0m   \u001b[38;5;28;01mreturn\u001b[39;00m a[\u001b[43m(\u001b[49m\u001b[43mTensor\u001b[49m\u001b[38;5;241;43m.\u001b[39;49m\u001b[43marange\u001b[49m\u001b[43m(\u001b[49m\u001b[43mi\u001b[49m\u001b[43m)\u001b[49m\u001b[43m \u001b[49m\u001b[38;5;241;43m+\u001b[39;49m\u001b[43m \u001b[49m\u001b[38;5;241;43m1\u001b[39;49m\u001b[43m)\u001b[49m\u001b[43m \u001b[49m\u001b[38;5;241;43m%\u001b[39;49m\u001b[43m \u001b[49m\u001b[43mi\u001b[49m]\n",
      "\u001b[0;31mTypeError\u001b[0m: unsupported operand type(s) for %: 'Tensor' and 'int'"
     ]
    }
   ],
   "source": [
    "# Puzzle 10 - roll\n",
    "def roll(a: Tensor, i: int) -> Tensor:\n",
    "  return a[(Tensor.arange(i) + 1) % i]\n",
    "\n",
    "a = Tensor.randint(5)\n",
    "assert np.array_equal(roll(a, 2).numpy(), np.roll((a.numpy(), 2)))"
   ]
  },
  {
   "cell_type": "code",
   "execution_count": 141,
   "metadata": {},
   "outputs": [
    {
     "name": "stdout",
     "output_type": "stream",
     "text": [
      "[7 5 2 3 1]\n",
      "[2 5 7 3 1]\n"
     ]
    }
   ],
   "source": [
    "# Puzzle 11 - flip\n",
    "def flip(a: Tensor, i: int) -> Tensor:\n",
    "  return Tensor.where(Tensor.arange(a.shape[0]) < i, a[i - Tensor.arange(a.shape[0]) - 1], a[Tensor.arange(a.shape[0])])\n",
    "\n",
    "a = Tensor.randint(5)\n",
    "print(a.numpy())\n",
    "print(flip(a, 3).numpy())"
   ]
  },
  {
   "cell_type": "code",
   "execution_count": 152,
   "metadata": {},
   "outputs": [
    {
     "name": "stdout",
     "output_type": "stream",
     "text": [
      "[[2]\n",
      " [4]\n",
      " [6]]\n"
     ]
    }
   ],
   "source": [
    "# Puzzle 12 - compress\n",
    "def compress(g: Tensor, v: Tensor, i: int) -> Tensor:\n",
    "  return v @ Tensor.where(g[:, None], Tensor.arange(i) == (cumsum(1 * g) - 1)[:, None], 0) # what?\n",
    "\n",
    "v = Tensor([[1, 2], [3, 4], [5, 6]])\n",
    "g = Tensor([0, 1])\n",
    "print(compress(g, v, 1).numpy())"
   ]
  },
  {
   "cell_type": "code",
   "execution_count": 158,
   "metadata": {},
   "outputs": [
    {
     "name": "stdout",
     "output_type": "stream",
     "text": [
      "[2 1 4 3 1]\n"
     ]
    },
    {
     "ename": "ValueError",
     "evalue": "cannot broadcast tensor with shape=(3,) to shape=(5,)",
     "output_type": "error",
     "traceback": [
      "\u001b[0;31m---------------------------------------------------------------------------\u001b[0m",
      "\u001b[0;31mValueError\u001b[0m                                Traceback (most recent call last)",
      "Cell \u001b[0;32mIn[158], line 8\u001b[0m\n\u001b[1;32m      6\u001b[0m a \u001b[38;5;241m=\u001b[39m Tensor\u001b[38;5;241m.\u001b[39mrandint(\u001b[38;5;241m5\u001b[39m)\n\u001b[1;32m      7\u001b[0m \u001b[38;5;28mprint\u001b[39m(a\u001b[38;5;241m.\u001b[39mnumpy())\n\u001b[0;32m----> 8\u001b[0m \u001b[38;5;28mprint\u001b[39m(\u001b[43mpad_to\u001b[49m\u001b[43m(\u001b[49m\u001b[43ma\u001b[49m\u001b[43m,\u001b[49m\u001b[43m \u001b[49m\u001b[38;5;241;43m3\u001b[39;49m\u001b[43m,\u001b[49m\u001b[43m \u001b[49m\u001b[38;5;241;43m2\u001b[39;49m\u001b[43m)\u001b[49m\u001b[38;5;241m.\u001b[39mnumpy())\n\u001b[1;32m      9\u001b[0m \u001b[38;5;28mprint\u001b[39m(pad_to(a, \u001b[38;5;241m7\u001b[39m, \u001b[38;5;241m2\u001b[39m)\u001b[38;5;241m.\u001b[39mnumpy())\n",
      "Cell \u001b[0;32mIn[158], line 3\u001b[0m, in \u001b[0;36mpad_to\u001b[0;34m(a, i, j)\u001b[0m\n\u001b[1;32m      2\u001b[0m \u001b[38;5;28;01mdef\u001b[39;00m \u001b[38;5;21mpad_to\u001b[39m(a: Tensor, i: \u001b[38;5;28mint\u001b[39m, j:\u001b[38;5;28mint\u001b[39m) \u001b[38;5;241m-\u001b[39m\u001b[38;5;241m>\u001b[39m Tensor:\n\u001b[0;32m----> 3\u001b[0m   \u001b[38;5;28;01mreturn\u001b[39;00m \u001b[43mTensor\u001b[49m\u001b[38;5;241;43m.\u001b[39;49m\u001b[43mwhere\u001b[49m\u001b[43m(\u001b[49m\u001b[43mTensor\u001b[49m\u001b[38;5;241;43m.\u001b[39;49m\u001b[43marange\u001b[49m\u001b[43m(\u001b[49m\u001b[43mi\u001b[49m\u001b[43m)\u001b[49m\u001b[43m \u001b[49m\u001b[38;5;241;43m<\u001b[39;49m\u001b[38;5;241;43m=\u001b[39;49m\u001b[43m \u001b[49m\u001b[43mi\u001b[49m\u001b[43m,\u001b[49m\u001b[43m \u001b[49m\u001b[43ma\u001b[49m\u001b[43m,\u001b[49m\u001b[43m \u001b[49m\u001b[38;5;241;43m0\u001b[39;49m\u001b[43m)\u001b[49m\n",
      "File \u001b[0;32m~/dev/deeplearning/tinygrad/tinygrad/tensor.py:937\u001b[0m, in \u001b[0;36mTensor.where\u001b[0;34m(self, input_, other)\u001b[0m\n\u001b[1;32m    935\u001b[0m \u001b[38;5;28;01mif\u001b[39;00m \u001b[38;5;28misinstance\u001b[39m(input_, Tensor): input_, other \u001b[38;5;241m=\u001b[39m input_\u001b[38;5;241m.\u001b[39m_broadcasted(other)\n\u001b[1;32m    936\u001b[0m \u001b[38;5;28;01melif\u001b[39;00m \u001b[38;5;28misinstance\u001b[39m(other, Tensor): other, input_ \u001b[38;5;241m=\u001b[39m other\u001b[38;5;241m.\u001b[39m_broadcasted(input_)\n\u001b[0;32m--> 937\u001b[0m x_,y \u001b[38;5;241m=\u001b[39m \u001b[38;5;28;43mself\u001b[39;49m\u001b[38;5;241;43m.\u001b[39;49m\u001b[43m_broadcasted\u001b[49m\u001b[43m(\u001b[49m\u001b[43minput_\u001b[49m\u001b[43m,\u001b[49m\u001b[43m \u001b[49m\u001b[43mmatch_dtype\u001b[49m\u001b[38;5;241;43m=\u001b[39;49m\u001b[38;5;28;43;01mFalse\u001b[39;49;00m\u001b[43m)\u001b[49m\n\u001b[1;32m    938\u001b[0m x,z \u001b[38;5;241m=\u001b[39m x_\u001b[38;5;241m.\u001b[39m_broadcasted(other, match_dtype\u001b[38;5;241m=\u001b[39m\u001b[38;5;28;01mFalse\u001b[39;00m)\n\u001b[1;32m    939\u001b[0m \u001b[38;5;28;01mreturn\u001b[39;00m F\u001b[38;5;241m.\u001b[39mWhere\u001b[38;5;241m.\u001b[39mapply(x\u001b[38;5;241m.\u001b[39mcast(dtypes\u001b[38;5;241m.\u001b[39mbool), \u001b[38;5;241m*\u001b[39my\u001b[38;5;241m.\u001b[39m_broadcasted(z))\n",
      "File \u001b[0;32m~/dev/deeplearning/tinygrad/tinygrad/tensor.py:892\u001b[0m, in \u001b[0;36mTensor._broadcasted\u001b[0;34m(self, y, reverse, match_dtype)\u001b[0m\n\u001b[1;32m    890\u001b[0m \u001b[38;5;66;03m# broadcast\u001b[39;00m\n\u001b[1;32m    891\u001b[0m out_shape \u001b[38;5;241m=\u001b[39m broadcast_shape(x\u001b[38;5;241m.\u001b[39mshape, y\u001b[38;5;241m.\u001b[39mshape)\n\u001b[0;32m--> 892\u001b[0m \u001b[38;5;28;01mreturn\u001b[39;00m \u001b[43mx\u001b[49m\u001b[38;5;241;43m.\u001b[39;49m\u001b[43m_broadcast_to\u001b[49m\u001b[43m(\u001b[49m\u001b[43mout_shape\u001b[49m\u001b[43m)\u001b[49m, y\u001b[38;5;241m.\u001b[39m_broadcast_to(out_shape)\n",
      "File \u001b[0;32m~/dev/deeplearning/tinygrad/tinygrad/tensor.py:872\u001b[0m, in \u001b[0;36mTensor._broadcast_to\u001b[0;34m(self, shape)\u001b[0m\n\u001b[1;32m    870\u001b[0m reshape_arg, _ \u001b[38;5;241m=\u001b[39m _pad_left(\u001b[38;5;28mself\u001b[39m\u001b[38;5;241m.\u001b[39mshape, shape)\n\u001b[1;32m    871\u001b[0m \u001b[38;5;28;01mif\u001b[39;00m \u001b[38;5;28mself\u001b[39m\u001b[38;5;241m.\u001b[39mndim \u001b[38;5;241m>\u001b[39m \u001b[38;5;28mlen\u001b[39m(shape) \u001b[38;5;129;01mor\u001b[39;00m \u001b[38;5;129;01mnot\u001b[39;00m \u001b[38;5;28mall\u001b[39m(sh \u001b[38;5;129;01min\u001b[39;00m {s,\u001b[38;5;241m1\u001b[39m} \u001b[38;5;129;01mor\u001b[39;00m (s\u001b[38;5;241m==\u001b[39m\u001b[38;5;241m0\u001b[39m \u001b[38;5;129;01mand\u001b[39;00m sh\u001b[38;5;241m==\u001b[39m\u001b[38;5;241m1\u001b[39m) \u001b[38;5;28;01mfor\u001b[39;00m sh,s \u001b[38;5;129;01min\u001b[39;00m \u001b[38;5;28mzip\u001b[39m(reshape_arg, shape)):\n\u001b[0;32m--> 872\u001b[0m   \u001b[38;5;28;01mraise\u001b[39;00m \u001b[38;5;167;01mValueError\u001b[39;00m(\u001b[38;5;124mf\u001b[39m\u001b[38;5;124m\"\u001b[39m\u001b[38;5;124mcannot broadcast tensor with shape=\u001b[39m\u001b[38;5;132;01m{\u001b[39;00m\u001b[38;5;28mself\u001b[39m\u001b[38;5;241m.\u001b[39mshape\u001b[38;5;132;01m}\u001b[39;00m\u001b[38;5;124m to \u001b[39m\u001b[38;5;132;01m{\u001b[39;00mshape\u001b[38;5;132;01m=}\u001b[39;00m\u001b[38;5;124m\"\u001b[39m)\n\u001b[1;32m    873\u001b[0m \u001b[38;5;28;01mreturn\u001b[39;00m F\u001b[38;5;241m.\u001b[39mExpand\u001b[38;5;241m.\u001b[39mapply(\u001b[38;5;28mself\u001b[39m\u001b[38;5;241m.\u001b[39mreshape(reshape_arg), shape\u001b[38;5;241m=\u001b[39mshape) \u001b[38;5;28;01mif\u001b[39;00m shape \u001b[38;5;241m!=\u001b[39m \u001b[38;5;28mself\u001b[39m\u001b[38;5;241m.\u001b[39mshape \u001b[38;5;28;01melse\u001b[39;00m \u001b[38;5;28mself\u001b[39m\n",
      "\u001b[0;31mValueError\u001b[0m: cannot broadcast tensor with shape=(3,) to shape=(5,)"
     ]
    }
   ],
   "source": [
    "# Puzzle 13 - pad_to\n",
    "def pad_to(a: Tensor, i: int, j:int) -> Tensor:\n",
    "  return Tensor.where(Tensor.arange(i) <= i, a[Tensor.arange(i)], 0)\n",
    "\n",
    "\n",
    "a = Tensor.randint(5)\n",
    "print(a.numpy())\n",
    "print(pad_to(a, 3, 2).numpy())\n",
    "print(pad_to(a, 7, 2).numpy())"
   ]
  }
 ],
 "metadata": {
  "kernelspec": {
   "display_name": "Python 3",
   "language": "python",
   "name": "python3"
  },
  "language_info": {
   "codemirror_mode": {
    "name": "ipython",
    "version": 3
   },
   "file_extension": ".py",
   "mimetype": "text/x-python",
   "name": "python",
   "nbconvert_exporter": "python",
   "pygments_lexer": "ipython3",
   "version": "3.12.2"
  }
 },
 "nbformat": 4,
 "nbformat_minor": 2
}
