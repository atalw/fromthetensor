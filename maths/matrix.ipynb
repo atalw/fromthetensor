{
 "cells": [
  {
   "cell_type": "code",
   "execution_count": 9,
   "metadata": {},
   "outputs": [],
   "source": [
    "import numpy as np"
   ]
  },
  {
   "cell_type": "code",
   "execution_count": 19,
   "metadata": {},
   "outputs": [
    {
     "data": {
      "text/plain": [
       "(array([[[-2, -2],\n",
       "         [ 0,  1],\n",
       "         [ 1, -1]],\n",
       " \n",
       "        [[ 1, -1],\n",
       "         [-1, -1],\n",
       "         [-2,  0]],\n",
       " \n",
       "        [[ 0,  0],\n",
       "         [-2,  0],\n",
       "         [-2,  1]]]),\n",
       " array([[[ 1,  0, -1, -1],\n",
       "         [-2, -1,  0,  0]],\n",
       " \n",
       "        [[-1, -2, -1,  1],\n",
       "         [ 1, -1, -1, -1]],\n",
       " \n",
       "        [[-2,  0,  0,  1],\n",
       "         [-1, -2,  1,  1]]]))"
      ]
     },
     "execution_count": 19,
     "metadata": {},
     "output_type": "execute_result"
    }
   ],
   "source": [
    "A = np.random.randint(-2, 2, size=(3, 3, 2))\n",
    "B = np.random.randint(-2, 2, size=(3, 2, 4))\n",
    "A, B"
   ]
  },
  {
   "cell_type": "code",
   "execution_count": 21,
   "metadata": {},
   "outputs": [
    {
     "data": {
      "text/plain": [
       "(3, 3, 2)"
      ]
     },
     "execution_count": 21,
     "metadata": {},
     "output_type": "execute_result"
    }
   ],
   "source": [
    "A.shape"
   ]
  },
  {
   "cell_type": "code",
   "execution_count": 20,
   "metadata": {},
   "outputs": [
    {
     "data": {
      "text/plain": [
       "array([[[ 2,  2,  2,  2],\n",
       "        [-2, -1,  0,  0],\n",
       "        [ 3,  1, -1, -1]],\n",
       "\n",
       "       [[-2, -1,  0,  2],\n",
       "        [ 0,  3,  2,  0],\n",
       "        [ 2,  4,  2, -2]],\n",
       "\n",
       "       [[ 0,  0,  0,  0],\n",
       "        [ 4,  0,  0, -2],\n",
       "        [ 3, -2,  1, -1]]])"
      ]
     },
     "execution_count": 20,
     "metadata": {},
     "output_type": "execute_result"
    }
   ],
   "source": [
    "C = np.matmul(A, B)\n",
    "C"
   ]
  },
  {
   "cell_type": "code",
   "execution_count": 23,
   "metadata": {},
   "outputs": [
    {
     "ename": "ValueError",
     "evalue": "cannot reshape array of size 36 into shape (120)",
     "output_type": "error",
     "traceback": [
      "\u001b[0;31m---------------------------------------------------------------------------\u001b[0m",
      "\u001b[0;31mValueError\u001b[0m                                Traceback (most recent call last)",
      "Cell \u001b[0;32mIn[23], line 1\u001b[0m\n\u001b[0;32m----> 1\u001b[0m \u001b[43mC\u001b[49m\u001b[38;5;241;43m.\u001b[39;49m\u001b[43mreshape\u001b[49m\u001b[43m(\u001b[49m\u001b[43m(\u001b[49m\u001b[38;5;241;43m-\u001b[39;49m\u001b[38;5;241;43m1\u001b[39;49m\u001b[43m,\u001b[49m\u001b[43m \u001b[49m\u001b[38;5;241;43m120\u001b[39;49m\u001b[43m)\u001b[49m\u001b[43m)\u001b[49m\n\u001b[1;32m      2\u001b[0m C\n",
      "\u001b[0;31mValueError\u001b[0m: cannot reshape array of size 36 into shape (120)"
     ]
    }
   ],
   "source": [
    "C.reshape((-1, 32))\n",
    "C"
   ]
  },
  {
   "cell_type": "code",
   "execution_count": null,
   "metadata": {},
   "outputs": [],
   "source": []
  }
 ],
 "metadata": {
  "kernelspec": {
   "display_name": "Python 3",
   "language": "python",
   "name": "python3"
  },
  "language_info": {
   "codemirror_mode": {
    "name": "ipython",
    "version": 3
   },
   "file_extension": ".py",
   "mimetype": "text/x-python",
   "name": "python",
   "nbconvert_exporter": "python",
   "pygments_lexer": "ipython3",
   "version": "3.12.2"
  }
 },
 "nbformat": 4,
 "nbformat_minor": 2
}
