{
 "cells": [
  {
   "cell_type": "code",
   "execution_count": 9,
   "metadata": {},
   "outputs": [],
   "source": [
    "import numpy as np"
   ]
  },
  {
   "cell_type": "code",
   "execution_count": 19,
   "metadata": {},
   "outputs": [
    {
     "data": {
      "text/plain": [
       "(array([[[-2, -2],\n",
       "         [ 0,  1],\n",
       "         [ 1, -1]],\n",
       " \n",
       "        [[ 1, -1],\n",
       "         [-1, -1],\n",
       "         [-2,  0]],\n",
       " \n",
       "        [[ 0,  0],\n",
       "         [-2,  0],\n",
       "         [-2,  1]]]),\n",
       " array([[[ 1,  0, -1, -1],\n",
       "         [-2, -1,  0,  0]],\n",
       " \n",
       "        [[-1, -2, -1,  1],\n",
       "         [ 1, -1, -1, -1]],\n",
       " \n",
       "        [[-2,  0,  0,  1],\n",
       "         [-1, -2,  1,  1]]]))"
      ]
     },
     "execution_count": 19,
     "metadata": {},
     "output_type": "execute_result"
    }
   ],
   "source": [
    "A = np.random.randint(-2, 2, size=(3, 3, 2))\n",
    "B = np.random.randint(-2, 2, size=(3, 2, 4))\n",
    "A, B"
   ]
  },
  {
   "cell_type": "code",
   "execution_count": 21,
   "metadata": {},
   "outputs": [
    {
     "data": {
      "text/plain": [
       "(3, 3, 2)"
      ]
     },
     "execution_count": 21,
     "metadata": {},
     "output_type": "execute_result"
    }
   ],
   "source": [
    "A.shape"
   ]
  },
  {
   "cell_type": "code",
   "execution_count": 27,
   "metadata": {},
   "outputs": [
    {
     "data": {
      "text/plain": [
       "(array([[[ 2,  2,  2,  2],\n",
       "         [-2, -1,  0,  0],\n",
       "         [ 3,  1, -1, -1]],\n",
       " \n",
       "        [[-2, -1,  0,  2],\n",
       "         [ 0,  3,  2,  0],\n",
       "         [ 2,  4,  2, -2]],\n",
       " \n",
       "        [[ 0,  0,  0,  0],\n",
       "         [ 4,  0,  0, -2],\n",
       "         [ 3, -2,  1, -1]]]),\n",
       " (3, 3, 4))"
      ]
     },
     "execution_count": 27,
     "metadata": {},
     "output_type": "execute_result"
    }
   ],
   "source": [
    "C = np.matmul(A, B)\n",
    "C, C.shape"
   ]
  },
  {
   "cell_type": "code",
   "execution_count": 40,
   "metadata": {},
   "outputs": [
    {
     "data": {
      "text/plain": [
       "(array([[[ 2,  2,  2,  2, -2, -1],\n",
       "         [ 0,  0,  3,  1, -1, -1],\n",
       "         [-2, -1,  0,  2,  0,  3]],\n",
       " \n",
       "        [[ 2,  0,  2,  4,  2, -2],\n",
       "         [ 0,  0,  0,  0,  4,  0],\n",
       "         [ 0, -2,  3, -2,  1, -1]]]),\n",
       " (2, 3, 6))"
      ]
     },
     "execution_count": 40,
     "metadata": {},
     "output_type": "execute_result"
    }
   ],
   "source": [
    "C = C.reshape((-1, 3, 6))\n",
    "C, C.shape"
   ]
  },
  {
   "cell_type": "code",
   "execution_count": null,
   "metadata": {},
   "outputs": [],
   "source": []
  }
 ],
 "metadata": {
  "kernelspec": {
   "display_name": "Python 3",
   "language": "python",
   "name": "python3"
  },
  "language_info": {
   "codemirror_mode": {
    "name": "ipython",
    "version": 3
   },
   "file_extension": ".py",
   "mimetype": "text/x-python",
   "name": "python",
   "nbconvert_exporter": "python",
   "pygments_lexer": "ipython3",
   "version": "3.12.2"
  }
 },
 "nbformat": 4,
 "nbformat_minor": 2
}
