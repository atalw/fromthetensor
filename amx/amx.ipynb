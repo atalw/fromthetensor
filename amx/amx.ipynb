{
 "cells": [
  {
   "cell_type": "code",
   "execution_count": 2,
   "metadata": {},
   "outputs": [],
   "source": [
    "from tinygrad.runtime.ops_llvm import LLVMDevice, LLVMProgram, LLVMCompiler\n",
    "import numpy as np\n",
    "from llvmlite import ir\n",
    "from tinygrad.device import MallocAllocator\n",
    "from tinygrad.helpers import flat_mv\n",
    "from functools import partialmethod\n",
    "from tinygrad.dtype import dtypes\n",
    "from tinygrad.renderer.llvmir import const"
   ]
  },
  {
   "cell_type": "code",
   "execution_count": 3,
   "metadata": {},
   "outputs": [],
   "source": [
    "class AMX:\n",
    "  @staticmethod\n",
    "  def nop_op_imm5(op, imm5, builder): builder.asm(ir.FunctionType(ir.VoidType(), []), f\".word (0x201000 + ({op} << 5) + {imm5}); amx op {op} imm {imm5}\", \"\", tuple(), True)\n",
    "  @staticmethod\n",
    "  def op_gpr(op, builder, gpr): builder.asm(ir.FunctionType(ir.VoidType(), [ir.IntType(64)]), f\".word (0x201000 + ({op} << 5) + 0$0 - ((0$0 >> 4) * 6)); amx op {op} reg $0\", \"r\", (gpr,), True)\n",
    "  set, clr = partialmethod(nop_op_imm5, 17, 0), partialmethod(nop_op_imm5, 17, 1)\n",
    "  ldx, ldy, stx, sty = partialmethod(op_gpr, 0), partialmethod(op_gpr, 1), partialmethod(op_gpr, 2), partialmethod(op_gpr, 3)\n",
    "  ldz, stz, ldzi, stzi = partialmethod(op_gpr, 4), partialmethod(op_gpr, 5), partialmethod(op_gpr, 6), partialmethod(op_gpr, 7)\n",
    "  extrx, extry = partialmethod(op_gpr, 8), partialmethod(op_gpr, 9)\n",
    "  fma64, fms64, fma32, fms32 = partialmethod(op_gpr, 10), partialmethod(op_gpr, 11), partialmethod(op_gpr, 12), partialmethod(op_gpr, 13)\n",
    "  mac16, fma16, fms16 = partialmethod(op_gpr, 14), partialmethod(op_gpr, 15), partialmethod(op_gpr, 16)\n",
    "  vecint, vecfp, matint, matfp, genlut = partialmethod(op_gpr, 18), partialmethod(op_gpr, 19), partialmethod(op_gpr, 20), partialmethod(op_gpr, 21), partialmethod(op_gpr, 22)"
   ]
  },
  {
   "cell_type": "code",
   "execution_count": 4,
   "metadata": {},
   "outputs": [],
   "source": [
    "N = 32\n",
    "na = np.zeros(N, dtype=np.float32)\n",
    "# na = np.zeros((N, N), dtype=np.float32)\n",
    "nb = np.random.randn(N, N).astype(np.float32)\n",
    "nc = np.random.randn(N, N).astype(np.float32)\n",
    "\n",
    "a = MallocAllocator.alloc(na.size * np.dtype(np.float32).itemsize)\n",
    "b = MallocAllocator.alloc(nb.size * np.dtype(np.float32).itemsize)\n",
    "c = MallocAllocator.alloc(nc.size * np.dtype(np.float32).itemsize)\n",
    "\n",
    "MallocAllocator.copyin(b, flat_mv(nb.data))\n",
    "MallocAllocator.copyin(c, flat_mv(nc.data))"
   ]
  },
  {
   "cell_type": "code",
   "execution_count": 5,
   "metadata": {},
   "outputs": [
    {
     "data": {
      "text/plain": [
       "<ir.Branch '.8' of type 'void', opname 'br', operands [<ir.Block 'exit' of type 'label'>]>"
      ]
     },
     "execution_count": 5,
     "metadata": {},
     "output_type": "execute_result"
    }
   ],
   "source": [
    "module = ir.Module(name=\"amx_test\")\n",
    "func = ir.Function(module, ir.FunctionType(ir.IntType(64), [ir.FloatType().as_pointer()]*3), \"amx\")\n",
    "\n",
    "entry = ir.IRBuilder(func.append_basic_block(name=\"entry\"))\n",
    "zm, xm, ym = [entry.ptrtoint(func.args[i], ir.IntType(64)) for i in range(3)]\n",
    "exit = ir.IRBuilder(func.append_basic_block(name=\"exit\"))\n",
    "\n",
    "entry.branch(exit._block)"
   ]
  },
  {
   "cell_type": "code",
   "execution_count": 6,
   "metadata": {},
   "outputs": [
    {
     "data": {
      "text/plain": [
       "<ir.Ret '.10' of type 'void', opname 'ret', operands [<ir.Constant type='i64' value=0>]>"
      ]
     },
     "execution_count": 6,
     "metadata": {},
     "output_type": "execute_result"
    }
   ],
   "source": [
    "AMX.fma32(exit, const(1 << 63 | 1 << 28, dtypes.int64))\n",
    "\n",
    "exit.ret(const(0, dtypes.int64))"
   ]
  },
  {
   "cell_type": "code",
   "execution_count": 7,
   "metadata": {},
   "outputs": [
    {
     "name": "stdout",
     "output_type": "stream",
     "text": [
      "; ModuleID = \"amx_test\"\n",
      "target triple = \"unknown-unknown-unknown\"\n",
      "target datalayout = \"\"\n",
      "\n",
      "define i64 @\"amx\"(float* %\".1\", float* %\".2\", float* %\".3\")\n",
      "{\n",
      "entry:\n",
      "  %\".5\" = ptrtoint float* %\".1\" to i64\n",
      "  %\".6\" = ptrtoint float* %\".2\" to i64\n",
      "  %\".7\" = ptrtoint float* %\".3\" to i64\n",
      "  br label %\"exit\"\n",
      "exit:\n",
      "  call void asm sideeffect \".word (0x201000 + (12 << 5) + 0$0 - ((0$0 >> 4) * 6)); amx op 12 reg $0\", \"r\"\n",
      "(i64 9223372037123211264)\n",
      "  ret i64 0\n",
      "}\n",
      "\n"
     ]
    }
   ],
   "source": [
    "device = LLVMDevice(\"llvm\")\n",
    "ir_str = str(module)\n",
    "print(ir_str)\n",
    "prog = LLVMProgram(device, \"amx\", LLVMCompiler(device).compile(ir_str))"
   ]
  },
  {
   "cell_type": "code",
   "execution_count": 1,
   "metadata": {},
   "outputs": [
    {
     "ename": "NameError",
     "evalue": "name 'ir_str' is not defined",
     "output_type": "error",
     "traceback": [
      "\u001b[0;31m---------------------------------------------------------------------------\u001b[0m",
      "\u001b[0;31mNameError\u001b[0m                                 Traceback (most recent call last)",
      "Cell \u001b[0;32mIn[1], line 2\u001b[0m\n\u001b[1;32m      1\u001b[0m \u001b[38;5;28;01mimport\u001b[39;00m \u001b[38;5;21;01mllvmlite\u001b[39;00m\u001b[38;5;21;01m.\u001b[39;00m\u001b[38;5;21;01mbinding\u001b[39;00m \u001b[38;5;28;01mas\u001b[39;00m \u001b[38;5;21;01mllvm\u001b[39;00m\n\u001b[0;32m----> 2\u001b[0m mod \u001b[38;5;241m=\u001b[39m llvm\u001b[38;5;241m.\u001b[39mparse_assembly(\u001b[43mir_str\u001b[49m)\n\u001b[1;32m      3\u001b[0m \u001b[38;5;28mprint\u001b[39m(device\u001b[38;5;241m.\u001b[39mtarget_machine\u001b[38;5;241m.\u001b[39memit_assembly(mod))\n",
      "\u001b[0;31mNameError\u001b[0m: name 'ir_str' is not defined"
     ]
    }
   ],
   "source": [
    "import llvmlite.binding as llvm\n",
    "mod = llvm.parse_assembly(ir_str)\n",
    "print(device.target_machine.emit_assembly(mod))"
   ]
  },
  {
   "cell_type": "code",
   "execution_count": null,
   "metadata": {},
   "outputs": [
    {
     "ename": "",
     "evalue": "",
     "output_type": "error",
     "traceback": [
      "\u001b[1;31mThe Kernel crashed while executing code in the current cell or a previous cell. \n",
      "\u001b[1;31mPlease review the code in the cell(s) to identify a possible cause of the failure. \n",
      "\u001b[1;31mClick <a href='https://aka.ms/vscodeJupyterKernelCrash'>here</a> for more info. \n",
      "\u001b[1;31mView Jupyter <a href='command:jupyter.viewOutput'>log</a> for further details."
     ]
    }
   ],
   "source": [
    "prog(a, b, c, N**2)\n",
    "MallocAllocator.copyout(flat_mv(na.data), a)\n",
    "\n",
    "print(na)"
   ]
  }
 ],
 "metadata": {
  "kernelspec": {
   "display_name": "Python 3",
   "language": "python",
   "name": "python3"
  },
  "language_info": {
   "codemirror_mode": {
    "name": "ipython",
    "version": 3
   },
   "file_extension": ".py",
   "mimetype": "text/x-python",
   "name": "python",
   "nbconvert_exporter": "python",
   "pygments_lexer": "ipython3",
   "version": "3.12.2"
  }
 },
 "nbformat": 4,
 "nbformat_minor": 2
}
