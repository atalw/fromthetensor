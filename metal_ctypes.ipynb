{
 "cells": [
  {
   "cell_type": "code",
   "execution_count": 2,
   "metadata": {},
   "outputs": [],
   "source": [
    "import ctypes\n",
    "from tinygrad import Tensor "
   ]
  },
  {
   "cell_type": "code",
   "execution_count": 41,
   "metadata": {},
   "outputs": [
    {
     "name": "stdout",
     "output_type": "stream",
     "text": [
      "/System/Library/Frameworks/Metal.framework/Metal\n"
     ]
    }
   ],
   "source": [
    "metal = ctypes.CDLL(ctypes.util.find_library(\"metal\"))\n",
    "print(ctypes.util.find_library(\"Metal\"))"
   ]
  },
  {
   "cell_type": "code",
   "execution_count": 36,
   "metadata": {},
   "outputs": [
    {
     "data": {
      "text/plain": [
       "0"
      ]
     },
     "execution_count": 36,
     "metadata": {},
     "output_type": "execute_result"
    }
   ],
   "source": [
    "metal.MTLCreateSystemDefaultDevice.restype = c_\n",
    "metal.MTLCreateSystemDefaultDevice()\n"
   ]
  },
  {
   "cell_type": "code",
   "execution_count": 33,
   "metadata": {},
   "outputs": [],
   "source": [
    "# metal = ctypes.CDLL(\"/System/Library/Frameworks/Metal.framework/Versions/A/Resources/BridgeSupport/Metal.dylib\")"
   ]
  },
  {
   "cell_type": "code",
   "execution_count": 99,
   "metadata": {},
   "outputs": [
    {
     "data": {
      "text/plain": [
       "0"
      ]
     },
     "execution_count": 99,
     "metadata": {},
     "output_type": "execute_result"
    }
   ],
   "source": [
    "device = metal.MTLCreateSystemDefaultDevice()\n",
    "device\n",
    "# ctypes assumes int as the default return type. To set a custom return type we need to create python classes from the header files of metal. unfortunately, it's not that straightfoward as clang2py only supports c headers and apple gives us c++ headers"
   ]
  },
  {
   "cell_type": "code",
   "execution_count": 6,
   "metadata": {},
   "outputs": [
    {
     "data": {
      "text/plain": [
       "<Tensor <LB GPU (5,) contig:False ShapeTracker(views=(View(shape=(5,), strides=(0,), offset=0, mask=None, contiguous=False),))> on GPU with grad None>"
      ]
     },
     "execution_count": 6,
     "metadata": {},
     "output_type": "execute_result"
    }
   ],
   "source": [
    "a = Tensor.ones(5)\n",
    "b = Tensor.ones(5)\n",
    "a"
   ]
  },
  {
   "cell_type": "code",
   "execution_count": 7,
   "metadata": {},
   "outputs": [
    {
     "ename": "AttributeError",
     "evalue": "'int' object has no attribute 'supportsFamily'",
     "output_type": "error",
     "traceback": [
      "\u001b[0;31m---------------------------------------------------------------------------\u001b[0m",
      "\u001b[0;31mAttributeError\u001b[0m                            Traceback (most recent call last)",
      "Cell \u001b[0;32mIn[7], line 1\u001b[0m\n\u001b[0;32m----> 1\u001b[0m \u001b[38;5;28mprint\u001b[39m(\u001b[43mdevice\u001b[49m\u001b[38;5;241;43m.\u001b[39;49m\u001b[43msupportsFamily\u001b[49m(\u001b[38;5;241m1009\u001b[39m))\n",
      "\u001b[0;31mAttributeError\u001b[0m: 'int' object has no attribute 'supportsFamily'"
     ]
    }
   ],
   "source": [
    "print(device.supportsFamily(1009))"
   ]
  },
  {
   "cell_type": "code",
   "execution_count": 10,
   "metadata": {},
   "outputs": [],
   "source": [
    "import llvmlite.binding as llvm\n",
    "from llvmlite import ir\n",
    "from ctypes import CFUNCTYPE, c_double"
   ]
  },
  {
   "cell_type": "code",
   "execution_count": 91,
   "metadata": {},
   "outputs": [
    {
     "name": "stdout",
     "output_type": "stream",
     "text": [
      "; ModuleID = \"mod\"\n",
      "target triple = \"unknown-unknown-unknown\"\n",
      "target datalayout = \"\"\n",
      "\n",
      "define double @\"fpadd\"(double %\".1\", double %\".2\")\n",
      "{\n",
      "entry:\n",
      "  %\"res\" = fadd double %\".1\", %\".2\"\n",
      "  ret double %\"res\"\n",
      "}\n",
      "\n"
     ]
    }
   ],
   "source": [
    "double = ir.DoubleType()\n",
    "fnty = ir.FunctionType(double, (double, double))\n",
    "module = ir.Module(name=\"mod\")\n",
    "func = ir.Function(module, fnty, name=\"fpadd\")\n",
    "\n",
    "block = func.append_basic_block(name=\"entry\")\n",
    "builder = ir.IRBuilder(block)\n",
    "a, b = func.args\n",
    "result = builder.fadd(a, b, name=\"res\")\n",
    "builder.ret(result)\n",
    "\n",
    "llvm_ir = str(module)\n",
    "print(llvm_ir)"
   ]
  },
  {
   "cell_type": "code",
   "execution_count": 71,
   "metadata": {},
   "outputs": [],
   "source": [
    "llvm.initialize()\n",
    "llvm.initialize_native_target()\n",
    "llvm.initialize_native_asmprinter()\n",
    "target = llvm.Target.from_default_triple()\n",
    "target_machine = target.create_target_machine()\n",
    "backing_mod = llvm.parse_assembly(\"\")\n",
    "engine = llvm.create_mcjit_compiler(backing_mod, target_machine)"
   ]
  },
  {
   "cell_type": "code",
   "execution_count": 88,
   "metadata": {},
   "outputs": [],
   "source": [
    "mod = llvm.parse_assembly(llvm_ir)\n",
    "mod.verify()\n",
    "engine.add_module(mod)\n",
    "engine.finalize_object()\n",
    "engine.run_static_constructors()"
   ]
  },
  {
   "cell_type": "code",
   "execution_count": 95,
   "metadata": {},
   "outputs": [
    {
     "name": "stdout",
     "output_type": "stream",
     "text": [
      "fpadd(...) = 4.5\n"
     ]
    }
   ],
   "source": [
    "func_ptr = engine.get_function_address(\"fpadd\")\n",
    "cfunc = CFUNCTYPE(c_double, c_double, c_double)(func_ptr)\n",
    "res = cfunc(1.0, 3.5)\n",
    "print(\"fpadd(...) =\", res)"
   ]
  },
  {
   "cell_type": "code",
   "execution_count": 98,
   "metadata": {},
   "outputs": [
    {
     "name": "stdout",
     "output_type": "stream",
     "text": [
      "\t.section\t__TEXT,__text,regular,pure_instructions\n",
      "\t.build_version macos, 14, 0\n",
      "\t.globl\t_fpadd\n",
      "\t.p2align\t2\n",
      "_fpadd:\n",
      "\t.cfi_startproc\n",
      "\tfadd\td0, d0, d1\n",
      "\tret\n",
      "\t.cfi_endproc\n",
      "\n",
      ".subsections_via_symbols\n",
      "\n"
     ]
    }
   ],
   "source": [
    "print(target_machine.emit_assembly(mod))"
   ]
  },
  {
   "cell_type": "code",
   "execution_count": 1,
   "metadata": {},
   "outputs": [],
   "source": [
    "# llvm apparently doesn't allow adding custom backends (targets) out of source. it's not straightforward to add apple amx to llvm then..."
   ]
  },
  {
   "cell_type": "code",
   "execution_count": 14,
   "metadata": {},
   "outputs": [
    {
     "data": {
      "text/plain": [
       "<property at 0x112476ca0>"
      ]
     },
     "execution_count": 14,
     "metadata": {},
     "output_type": "execute_result"
    }
   ],
   "source": [
    "import llvmlite.utils as ll\n",
    "ll.get_library_files()\n",
    "llvm.initialize_all_targets()\n",
    "ll"
   ]
  },
  {
   "cell_type": "code",
   "execution_count": null,
   "metadata": {},
   "outputs": [],
   "source": []
  }
 ],
 "metadata": {
  "kernelspec": {
   "display_name": "Python 3",
   "language": "python",
   "name": "python3"
  },
  "language_info": {
   "codemirror_mode": {
    "name": "ipython",
    "version": 3
   },
   "file_extension": ".py",
   "mimetype": "text/x-python",
   "name": "python",
   "nbconvert_exporter": "python",
   "pygments_lexer": "ipython3",
   "version": "3.12.2"
  }
 },
 "nbformat": 4,
 "nbformat_minor": 2
}
